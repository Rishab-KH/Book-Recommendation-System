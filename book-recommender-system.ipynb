{
 "cells": [
  {
   "cell_type": "code",
   "execution_count": 1,
   "id": "4ea6a867",
   "metadata": {},
   "outputs": [],
   "source": [
    "import numpy as np\n",
    "import pandas as pd\n",
    "import zipfile\n",
    "import warnings\n",
    "warnings.filterwarnings(\"ignore\")"
   ]
  },
  {
   "cell_type": "code",
   "execution_count": 2,
   "id": "be7e5a01",
   "metadata": {},
   "outputs": [],
   "source": [
    "books_zf = zipfile.ZipFile(\"D:\\\\book-recommendation-system\\\\Books.csv.zip\")\n",
    "users_zf = zipfile.ZipFile(\"D:\\\\book-recommendation-system\\\\Users.csv.zip\")\n",
    "ratings_zf = zipfile.ZipFile(\"D:\\\\book-recommendation-system\\\\Ratings.csv.zip\")\n"
   ]
  },
  {
   "cell_type": "code",
   "execution_count": 3,
   "id": "07577978",
   "metadata": {},
   "outputs": [],
   "source": [
    "books = pd.read_csv(books_zf.open(\"Books.csv\"))\n",
    "users = pd.read_csv(users_zf.open(\"Users.csv\"))\n",
    "ratings = pd.read_csv(ratings_zf.open(\"Ratings.csv\"))"
   ]
  },
  {
   "cell_type": "code",
   "execution_count": 4,
   "id": "6523d972",
   "metadata": {},
   "outputs": [
    {
     "data": {
      "text/html": [
       "<div>\n",
       "<style scoped>\n",
       "    .dataframe tbody tr th:only-of-type {\n",
       "        vertical-align: middle;\n",
       "    }\n",
       "\n",
       "    .dataframe tbody tr th {\n",
       "        vertical-align: top;\n",
       "    }\n",
       "\n",
       "    .dataframe thead th {\n",
       "        text-align: right;\n",
       "    }\n",
       "</style>\n",
       "<table border=\"1\" class=\"dataframe\">\n",
       "  <thead>\n",
       "    <tr style=\"text-align: right;\">\n",
       "      <th></th>\n",
       "      <th>ISBN</th>\n",
       "      <th>Book-Title</th>\n",
       "      <th>Book-Author</th>\n",
       "      <th>Year-Of-Publication</th>\n",
       "      <th>Publisher</th>\n",
       "      <th>Image-URL-S</th>\n",
       "      <th>Image-URL-M</th>\n",
       "      <th>Image-URL-L</th>\n",
       "    </tr>\n",
       "  </thead>\n",
       "  <tbody>\n",
       "    <tr>\n",
       "      <th>0</th>\n",
       "      <td>0195153448</td>\n",
       "      <td>Classical Mythology</td>\n",
       "      <td>Mark P. O. Morford</td>\n",
       "      <td>2002</td>\n",
       "      <td>Oxford University Press</td>\n",
       "      <td>http://images.amazon.com/images/P/0195153448.0...</td>\n",
       "      <td>http://images.amazon.com/images/P/0195153448.0...</td>\n",
       "      <td>http://images.amazon.com/images/P/0195153448.0...</td>\n",
       "    </tr>\n",
       "    <tr>\n",
       "      <th>1</th>\n",
       "      <td>0002005018</td>\n",
       "      <td>Clara Callan</td>\n",
       "      <td>Richard Bruce Wright</td>\n",
       "      <td>2001</td>\n",
       "      <td>HarperFlamingo Canada</td>\n",
       "      <td>http://images.amazon.com/images/P/0002005018.0...</td>\n",
       "      <td>http://images.amazon.com/images/P/0002005018.0...</td>\n",
       "      <td>http://images.amazon.com/images/P/0002005018.0...</td>\n",
       "    </tr>\n",
       "    <tr>\n",
       "      <th>2</th>\n",
       "      <td>0060973129</td>\n",
       "      <td>Decision in Normandy</td>\n",
       "      <td>Carlo D'Este</td>\n",
       "      <td>1991</td>\n",
       "      <td>HarperPerennial</td>\n",
       "      <td>http://images.amazon.com/images/P/0060973129.0...</td>\n",
       "      <td>http://images.amazon.com/images/P/0060973129.0...</td>\n",
       "      <td>http://images.amazon.com/images/P/0060973129.0...</td>\n",
       "    </tr>\n",
       "  </tbody>\n",
       "</table>\n",
       "</div>"
      ],
      "text/plain": [
       "         ISBN            Book-Title           Book-Author Year-Of-Publication  \\\n",
       "0  0195153448   Classical Mythology    Mark P. O. Morford                2002   \n",
       "1  0002005018          Clara Callan  Richard Bruce Wright                2001   \n",
       "2  0060973129  Decision in Normandy          Carlo D'Este                1991   \n",
       "\n",
       "                 Publisher                                        Image-URL-S  \\\n",
       "0  Oxford University Press  http://images.amazon.com/images/P/0195153448.0...   \n",
       "1    HarperFlamingo Canada  http://images.amazon.com/images/P/0002005018.0...   \n",
       "2          HarperPerennial  http://images.amazon.com/images/P/0060973129.0...   \n",
       "\n",
       "                                         Image-URL-M  \\\n",
       "0  http://images.amazon.com/images/P/0195153448.0...   \n",
       "1  http://images.amazon.com/images/P/0002005018.0...   \n",
       "2  http://images.amazon.com/images/P/0060973129.0...   \n",
       "\n",
       "                                         Image-URL-L  \n",
       "0  http://images.amazon.com/images/P/0195153448.0...  \n",
       "1  http://images.amazon.com/images/P/0002005018.0...  \n",
       "2  http://images.amazon.com/images/P/0060973129.0...  "
      ]
     },
     "execution_count": 4,
     "metadata": {},
     "output_type": "execute_result"
    }
   ],
   "source": [
    "books.head(3)"
   ]
  },
  {
   "cell_type": "code",
   "execution_count": 5,
   "id": "08258f21",
   "metadata": {},
   "outputs": [
    {
     "data": {
      "text/html": [
       "<div>\n",
       "<style scoped>\n",
       "    .dataframe tbody tr th:only-of-type {\n",
       "        vertical-align: middle;\n",
       "    }\n",
       "\n",
       "    .dataframe tbody tr th {\n",
       "        vertical-align: top;\n",
       "    }\n",
       "\n",
       "    .dataframe thead th {\n",
       "        text-align: right;\n",
       "    }\n",
       "</style>\n",
       "<table border=\"1\" class=\"dataframe\">\n",
       "  <thead>\n",
       "    <tr style=\"text-align: right;\">\n",
       "      <th></th>\n",
       "      <th>User-ID</th>\n",
       "      <th>Location</th>\n",
       "      <th>Age</th>\n",
       "    </tr>\n",
       "  </thead>\n",
       "  <tbody>\n",
       "    <tr>\n",
       "      <th>0</th>\n",
       "      <td>1</td>\n",
       "      <td>nyc, new york, usa</td>\n",
       "      <td>NaN</td>\n",
       "    </tr>\n",
       "    <tr>\n",
       "      <th>1</th>\n",
       "      <td>2</td>\n",
       "      <td>stockton, california, usa</td>\n",
       "      <td>18.0</td>\n",
       "    </tr>\n",
       "    <tr>\n",
       "      <th>2</th>\n",
       "      <td>3</td>\n",
       "      <td>moscow, yukon territory, russia</td>\n",
       "      <td>NaN</td>\n",
       "    </tr>\n",
       "  </tbody>\n",
       "</table>\n",
       "</div>"
      ],
      "text/plain": [
       "   User-ID                         Location   Age\n",
       "0        1               nyc, new york, usa   NaN\n",
       "1        2        stockton, california, usa  18.0\n",
       "2        3  moscow, yukon territory, russia   NaN"
      ]
     },
     "execution_count": 5,
     "metadata": {},
     "output_type": "execute_result"
    }
   ],
   "source": [
    "users.head(3)"
   ]
  },
  {
   "cell_type": "code",
   "execution_count": 6,
   "id": "b17201c7",
   "metadata": {},
   "outputs": [
    {
     "data": {
      "text/html": [
       "<div>\n",
       "<style scoped>\n",
       "    .dataframe tbody tr th:only-of-type {\n",
       "        vertical-align: middle;\n",
       "    }\n",
       "\n",
       "    .dataframe tbody tr th {\n",
       "        vertical-align: top;\n",
       "    }\n",
       "\n",
       "    .dataframe thead th {\n",
       "        text-align: right;\n",
       "    }\n",
       "</style>\n",
       "<table border=\"1\" class=\"dataframe\">\n",
       "  <thead>\n",
       "    <tr style=\"text-align: right;\">\n",
       "      <th></th>\n",
       "      <th>User-ID</th>\n",
       "      <th>ISBN</th>\n",
       "      <th>Book-Rating</th>\n",
       "    </tr>\n",
       "  </thead>\n",
       "  <tbody>\n",
       "    <tr>\n",
       "      <th>0</th>\n",
       "      <td>276725</td>\n",
       "      <td>034545104X</td>\n",
       "      <td>0</td>\n",
       "    </tr>\n",
       "    <tr>\n",
       "      <th>1</th>\n",
       "      <td>276726</td>\n",
       "      <td>0155061224</td>\n",
       "      <td>5</td>\n",
       "    </tr>\n",
       "    <tr>\n",
       "      <th>2</th>\n",
       "      <td>276727</td>\n",
       "      <td>0446520802</td>\n",
       "      <td>0</td>\n",
       "    </tr>\n",
       "  </tbody>\n",
       "</table>\n",
       "</div>"
      ],
      "text/plain": [
       "   User-ID        ISBN  Book-Rating\n",
       "0   276725  034545104X            0\n",
       "1   276726  0155061224            5\n",
       "2   276727  0446520802            0"
      ]
     },
     "execution_count": 6,
     "metadata": {},
     "output_type": "execute_result"
    }
   ],
   "source": [
    "ratings.head(3)"
   ]
  },
  {
   "cell_type": "code",
   "execution_count": 7,
   "id": "a69621ed",
   "metadata": {},
   "outputs": [
    {
     "data": {
      "text/plain": [
       "(271360, 8)"
      ]
     },
     "execution_count": 7,
     "metadata": {},
     "output_type": "execute_result"
    }
   ],
   "source": [
    "books.shape"
   ]
  },
  {
   "cell_type": "code",
   "execution_count": 8,
   "id": "e780baf2",
   "metadata": {},
   "outputs": [
    {
     "data": {
      "text/plain": [
       "(1149780, 3)"
      ]
     },
     "execution_count": 8,
     "metadata": {},
     "output_type": "execute_result"
    }
   ],
   "source": [
    "ratings.shape"
   ]
  },
  {
   "cell_type": "code",
   "execution_count": 9,
   "id": "9af39115",
   "metadata": {},
   "outputs": [
    {
     "data": {
      "text/plain": [
       "(278858, 3)"
      ]
     },
     "execution_count": 9,
     "metadata": {},
     "output_type": "execute_result"
    }
   ],
   "source": [
    "users.shape"
   ]
  },
  {
   "cell_type": "code",
   "execution_count": 10,
   "id": "936ddca4",
   "metadata": {},
   "outputs": [
    {
     "data": {
      "text/plain": [
       "ISBN                   0\n",
       "Book-Title             0\n",
       "Book-Author            1\n",
       "Year-Of-Publication    0\n",
       "Publisher              2\n",
       "Image-URL-S            0\n",
       "Image-URL-M            0\n",
       "Image-URL-L            3\n",
       "dtype: int64"
      ]
     },
     "execution_count": 10,
     "metadata": {},
     "output_type": "execute_result"
    }
   ],
   "source": [
    "books.isna().sum()"
   ]
  },
  {
   "cell_type": "code",
   "execution_count": 11,
   "id": "7aa84ccf",
   "metadata": {},
   "outputs": [
    {
     "data": {
      "text/plain": [
       "User-ID          0\n",
       "Location         0\n",
       "Age         110762\n",
       "dtype: int64"
      ]
     },
     "execution_count": 11,
     "metadata": {},
     "output_type": "execute_result"
    }
   ],
   "source": [
    "users.isna().sum()"
   ]
  },
  {
   "cell_type": "code",
   "execution_count": 12,
   "id": "2c8e3253",
   "metadata": {},
   "outputs": [
    {
     "data": {
      "text/plain": [
       "User-ID        0\n",
       "ISBN           0\n",
       "Book-Rating    0\n",
       "dtype: int64"
      ]
     },
     "execution_count": 12,
     "metadata": {},
     "output_type": "execute_result"
    }
   ],
   "source": [
    "ratings.isna().sum()"
   ]
  },
  {
   "cell_type": "code",
   "execution_count": 13,
   "id": "88fd0bd0",
   "metadata": {},
   "outputs": [
    {
     "data": {
      "text/plain": [
       "0"
      ]
     },
     "execution_count": 13,
     "metadata": {},
     "output_type": "execute_result"
    }
   ],
   "source": [
    "books.duplicated().sum()"
   ]
  },
  {
   "cell_type": "code",
   "execution_count": 14,
   "id": "a8897245",
   "metadata": {},
   "outputs": [
    {
     "data": {
      "text/plain": [
       "0"
      ]
     },
     "execution_count": 14,
     "metadata": {},
     "output_type": "execute_result"
    }
   ],
   "source": [
    "users.duplicated().sum()"
   ]
  },
  {
   "cell_type": "code",
   "execution_count": 15,
   "id": "8a8d4819",
   "metadata": {},
   "outputs": [
    {
     "data": {
      "text/plain": [
       "0"
      ]
     },
     "execution_count": 15,
     "metadata": {},
     "output_type": "execute_result"
    }
   ],
   "source": [
    "ratings.duplicated().sum()"
   ]
  },
  {
   "cell_type": "code",
   "execution_count": 16,
   "id": "549bf9c9",
   "metadata": {},
   "outputs": [],
   "source": [
    "df_books_ratings = ratings.merge(books, on = \"ISBN\") "
   ]
  },
  {
   "cell_type": "code",
   "execution_count": 17,
   "id": "e593a49d",
   "metadata": {},
   "outputs": [
    {
     "data": {
      "text/html": [
       "<div>\n",
       "<style scoped>\n",
       "    .dataframe tbody tr th:only-of-type {\n",
       "        vertical-align: middle;\n",
       "    }\n",
       "\n",
       "    .dataframe tbody tr th {\n",
       "        vertical-align: top;\n",
       "    }\n",
       "\n",
       "    .dataframe thead th {\n",
       "        text-align: right;\n",
       "    }\n",
       "</style>\n",
       "<table border=\"1\" class=\"dataframe\">\n",
       "  <thead>\n",
       "    <tr style=\"text-align: right;\">\n",
       "      <th></th>\n",
       "      <th>User-ID</th>\n",
       "      <th>ISBN</th>\n",
       "      <th>Book-Rating</th>\n",
       "      <th>Book-Title</th>\n",
       "      <th>Book-Author</th>\n",
       "      <th>Year-Of-Publication</th>\n",
       "      <th>Publisher</th>\n",
       "      <th>Image-URL-S</th>\n",
       "      <th>Image-URL-M</th>\n",
       "      <th>Image-URL-L</th>\n",
       "    </tr>\n",
       "  </thead>\n",
       "  <tbody>\n",
       "    <tr>\n",
       "      <th>0</th>\n",
       "      <td>276725</td>\n",
       "      <td>034545104X</td>\n",
       "      <td>0</td>\n",
       "      <td>Flesh Tones: A Novel</td>\n",
       "      <td>M. J. Rose</td>\n",
       "      <td>2002</td>\n",
       "      <td>Ballantine Books</td>\n",
       "      <td>http://images.amazon.com/images/P/034545104X.0...</td>\n",
       "      <td>http://images.amazon.com/images/P/034545104X.0...</td>\n",
       "      <td>http://images.amazon.com/images/P/034545104X.0...</td>\n",
       "    </tr>\n",
       "    <tr>\n",
       "      <th>1</th>\n",
       "      <td>2313</td>\n",
       "      <td>034545104X</td>\n",
       "      <td>5</td>\n",
       "      <td>Flesh Tones: A Novel</td>\n",
       "      <td>M. J. Rose</td>\n",
       "      <td>2002</td>\n",
       "      <td>Ballantine Books</td>\n",
       "      <td>http://images.amazon.com/images/P/034545104X.0...</td>\n",
       "      <td>http://images.amazon.com/images/P/034545104X.0...</td>\n",
       "      <td>http://images.amazon.com/images/P/034545104X.0...</td>\n",
       "    </tr>\n",
       "    <tr>\n",
       "      <th>2</th>\n",
       "      <td>6543</td>\n",
       "      <td>034545104X</td>\n",
       "      <td>0</td>\n",
       "      <td>Flesh Tones: A Novel</td>\n",
       "      <td>M. J. Rose</td>\n",
       "      <td>2002</td>\n",
       "      <td>Ballantine Books</td>\n",
       "      <td>http://images.amazon.com/images/P/034545104X.0...</td>\n",
       "      <td>http://images.amazon.com/images/P/034545104X.0...</td>\n",
       "      <td>http://images.amazon.com/images/P/034545104X.0...</td>\n",
       "    </tr>\n",
       "  </tbody>\n",
       "</table>\n",
       "</div>"
      ],
      "text/plain": [
       "   User-ID        ISBN  Book-Rating            Book-Title Book-Author  \\\n",
       "0   276725  034545104X            0  Flesh Tones: A Novel  M. J. Rose   \n",
       "1     2313  034545104X            5  Flesh Tones: A Novel  M. J. Rose   \n",
       "2     6543  034545104X            0  Flesh Tones: A Novel  M. J. Rose   \n",
       "\n",
       "  Year-Of-Publication         Publisher  \\\n",
       "0                2002  Ballantine Books   \n",
       "1                2002  Ballantine Books   \n",
       "2                2002  Ballantine Books   \n",
       "\n",
       "                                         Image-URL-S  \\\n",
       "0  http://images.amazon.com/images/P/034545104X.0...   \n",
       "1  http://images.amazon.com/images/P/034545104X.0...   \n",
       "2  http://images.amazon.com/images/P/034545104X.0...   \n",
       "\n",
       "                                         Image-URL-M  \\\n",
       "0  http://images.amazon.com/images/P/034545104X.0...   \n",
       "1  http://images.amazon.com/images/P/034545104X.0...   \n",
       "2  http://images.amazon.com/images/P/034545104X.0...   \n",
       "\n",
       "                                         Image-URL-L  \n",
       "0  http://images.amazon.com/images/P/034545104X.0...  \n",
       "1  http://images.amazon.com/images/P/034545104X.0...  \n",
       "2  http://images.amazon.com/images/P/034545104X.0...  "
      ]
     },
     "execution_count": 17,
     "metadata": {},
     "output_type": "execute_result"
    }
   ],
   "source": [
    "df_books_ratings.head(3)"
   ]
  },
  {
   "cell_type": "code",
   "execution_count": 18,
   "id": "91fe76bd",
   "metadata": {},
   "outputs": [],
   "source": [
    "num_rating_df = df_books_ratings.groupby('Book-Title').count()[\"Book-Rating\"].reset_index()\n",
    "num_rating_df.rename(columns = {\"Book-Rating\" : \"num_ratings\"}, inplace = True)"
   ]
  },
  {
   "cell_type": "code",
   "execution_count": 19,
   "id": "315fa6d3",
   "metadata": {},
   "outputs": [
    {
     "data": {
      "text/html": [
       "<div>\n",
       "<style scoped>\n",
       "    .dataframe tbody tr th:only-of-type {\n",
       "        vertical-align: middle;\n",
       "    }\n",
       "\n",
       "    .dataframe tbody tr th {\n",
       "        vertical-align: top;\n",
       "    }\n",
       "\n",
       "    .dataframe thead th {\n",
       "        text-align: right;\n",
       "    }\n",
       "</style>\n",
       "<table border=\"1\" class=\"dataframe\">\n",
       "  <thead>\n",
       "    <tr style=\"text-align: right;\">\n",
       "      <th></th>\n",
       "      <th>Book-Title</th>\n",
       "      <th>num_ratings</th>\n",
       "    </tr>\n",
       "  </thead>\n",
       "  <tbody>\n",
       "    <tr>\n",
       "      <th>0</th>\n",
       "      <td>A Light in the Storm: The Civil War Diary of ...</td>\n",
       "      <td>4</td>\n",
       "    </tr>\n",
       "    <tr>\n",
       "      <th>1</th>\n",
       "      <td>Always Have Popsicles</td>\n",
       "      <td>1</td>\n",
       "    </tr>\n",
       "    <tr>\n",
       "      <th>2</th>\n",
       "      <td>Apple Magic (The Collector's series)</td>\n",
       "      <td>1</td>\n",
       "    </tr>\n",
       "    <tr>\n",
       "      <th>3</th>\n",
       "      <td>Ask Lily (Young Women of Faith: Lily Series, ...</td>\n",
       "      <td>1</td>\n",
       "    </tr>\n",
       "    <tr>\n",
       "      <th>4</th>\n",
       "      <td>Beyond IBM: Leadership Marketing and Finance ...</td>\n",
       "      <td>1</td>\n",
       "    </tr>\n",
       "  </tbody>\n",
       "</table>\n",
       "</div>"
      ],
      "text/plain": [
       "                                          Book-Title  num_ratings\n",
       "0   A Light in the Storm: The Civil War Diary of ...            4\n",
       "1                              Always Have Popsicles            1\n",
       "2               Apple Magic (The Collector's series)            1\n",
       "3   Ask Lily (Young Women of Faith: Lily Series, ...            1\n",
       "4   Beyond IBM: Leadership Marketing and Finance ...            1"
      ]
     },
     "execution_count": 19,
     "metadata": {},
     "output_type": "execute_result"
    }
   ],
   "source": [
    "num_rating_df.head()"
   ]
  },
  {
   "cell_type": "code",
   "execution_count": 20,
   "id": "1109b87e",
   "metadata": {},
   "outputs": [],
   "source": [
    "avg_rating_df = df_books_ratings.groupby('Book-Title').mean()[\"Book-Rating\"].reset_index()\n",
    "avg_rating_df.rename(columns = {\"Book-Rating\" : \"avg_ratings\"}, inplace = True)"
   ]
  },
  {
   "cell_type": "code",
   "execution_count": 21,
   "id": "e8173e1e",
   "metadata": {},
   "outputs": [
    {
     "data": {
      "text/html": [
       "<div>\n",
       "<style scoped>\n",
       "    .dataframe tbody tr th:only-of-type {\n",
       "        vertical-align: middle;\n",
       "    }\n",
       "\n",
       "    .dataframe tbody tr th {\n",
       "        vertical-align: top;\n",
       "    }\n",
       "\n",
       "    .dataframe thead th {\n",
       "        text-align: right;\n",
       "    }\n",
       "</style>\n",
       "<table border=\"1\" class=\"dataframe\">\n",
       "  <thead>\n",
       "    <tr style=\"text-align: right;\">\n",
       "      <th></th>\n",
       "      <th>Book-Title</th>\n",
       "      <th>avg_ratings</th>\n",
       "    </tr>\n",
       "  </thead>\n",
       "  <tbody>\n",
       "    <tr>\n",
       "      <th>0</th>\n",
       "      <td>A Light in the Storm: The Civil War Diary of ...</td>\n",
       "      <td>2.25</td>\n",
       "    </tr>\n",
       "    <tr>\n",
       "      <th>1</th>\n",
       "      <td>Always Have Popsicles</td>\n",
       "      <td>0.00</td>\n",
       "    </tr>\n",
       "    <tr>\n",
       "      <th>2</th>\n",
       "      <td>Apple Magic (The Collector's series)</td>\n",
       "      <td>0.00</td>\n",
       "    </tr>\n",
       "  </tbody>\n",
       "</table>\n",
       "</div>"
      ],
      "text/plain": [
       "                                          Book-Title  avg_ratings\n",
       "0   A Light in the Storm: The Civil War Diary of ...         2.25\n",
       "1                              Always Have Popsicles         0.00\n",
       "2               Apple Magic (The Collector's series)         0.00"
      ]
     },
     "execution_count": 21,
     "metadata": {},
     "output_type": "execute_result"
    }
   ],
   "source": [
    "avg_rating_df.head(3)"
   ]
  },
  {
   "cell_type": "code",
   "execution_count": 22,
   "id": "ce155d47",
   "metadata": {},
   "outputs": [],
   "source": [
    "popular_df = num_rating_df.merge(avg_rating_df, on = \"Book-Title\")"
   ]
  },
  {
   "cell_type": "code",
   "execution_count": 23,
   "id": "f3c063a0",
   "metadata": {},
   "outputs": [
    {
     "data": {
      "text/html": [
       "<div>\n",
       "<style scoped>\n",
       "    .dataframe tbody tr th:only-of-type {\n",
       "        vertical-align: middle;\n",
       "    }\n",
       "\n",
       "    .dataframe tbody tr th {\n",
       "        vertical-align: top;\n",
       "    }\n",
       "\n",
       "    .dataframe thead th {\n",
       "        text-align: right;\n",
       "    }\n",
       "</style>\n",
       "<table border=\"1\" class=\"dataframe\">\n",
       "  <thead>\n",
       "    <tr style=\"text-align: right;\">\n",
       "      <th></th>\n",
       "      <th>Book-Title</th>\n",
       "      <th>num_ratings</th>\n",
       "      <th>avg_ratings</th>\n",
       "    </tr>\n",
       "  </thead>\n",
       "  <tbody>\n",
       "    <tr>\n",
       "      <th>0</th>\n",
       "      <td>A Light in the Storm: The Civil War Diary of ...</td>\n",
       "      <td>4</td>\n",
       "      <td>2.25</td>\n",
       "    </tr>\n",
       "    <tr>\n",
       "      <th>1</th>\n",
       "      <td>Always Have Popsicles</td>\n",
       "      <td>1</td>\n",
       "      <td>0.00</td>\n",
       "    </tr>\n",
       "    <tr>\n",
       "      <th>2</th>\n",
       "      <td>Apple Magic (The Collector's series)</td>\n",
       "      <td>1</td>\n",
       "      <td>0.00</td>\n",
       "    </tr>\n",
       "  </tbody>\n",
       "</table>\n",
       "</div>"
      ],
      "text/plain": [
       "                                          Book-Title  num_ratings  avg_ratings\n",
       "0   A Light in the Storm: The Civil War Diary of ...            4         2.25\n",
       "1                              Always Have Popsicles            1         0.00\n",
       "2               Apple Magic (The Collector's series)            1         0.00"
      ]
     },
     "execution_count": 23,
     "metadata": {},
     "output_type": "execute_result"
    }
   ],
   "source": [
    "popular_df.head(3)"
   ]
  },
  {
   "cell_type": "code",
   "execution_count": 24,
   "id": "1efb00d9",
   "metadata": {},
   "outputs": [],
   "source": [
    "popular_df = popular_df[popular_df['num_ratings'] >= 250].sort_values(\n",
    "    by = \"avg_ratings\",ascending = False).head(50)"
   ]
  },
  {
   "cell_type": "code",
   "execution_count": 25,
   "id": "db2a57dc",
   "metadata": {},
   "outputs": [
    {
     "data": {
      "text/html": [
       "<div>\n",
       "<style scoped>\n",
       "    .dataframe tbody tr th:only-of-type {\n",
       "        vertical-align: middle;\n",
       "    }\n",
       "\n",
       "    .dataframe tbody tr th {\n",
       "        vertical-align: top;\n",
       "    }\n",
       "\n",
       "    .dataframe thead th {\n",
       "        text-align: right;\n",
       "    }\n",
       "</style>\n",
       "<table border=\"1\" class=\"dataframe\">\n",
       "  <thead>\n",
       "    <tr style=\"text-align: right;\">\n",
       "      <th></th>\n",
       "      <th>Book-Title</th>\n",
       "      <th>num_ratings</th>\n",
       "      <th>avg_ratings</th>\n",
       "    </tr>\n",
       "  </thead>\n",
       "  <tbody>\n",
       "    <tr>\n",
       "      <th>80434</th>\n",
       "      <td>Harry Potter and the Prisoner of Azkaban (Book 3)</td>\n",
       "      <td>428</td>\n",
       "      <td>5.852804</td>\n",
       "    </tr>\n",
       "    <tr>\n",
       "      <th>80422</th>\n",
       "      <td>Harry Potter and the Goblet of Fire (Book 4)</td>\n",
       "      <td>387</td>\n",
       "      <td>5.824289</td>\n",
       "    </tr>\n",
       "    <tr>\n",
       "      <th>80441</th>\n",
       "      <td>Harry Potter and the Sorcerer's Stone (Book 1)</td>\n",
       "      <td>278</td>\n",
       "      <td>5.737410</td>\n",
       "    </tr>\n",
       "    <tr>\n",
       "      <th>80426</th>\n",
       "      <td>Harry Potter and the Order of the Phoenix (Boo...</td>\n",
       "      <td>347</td>\n",
       "      <td>5.501441</td>\n",
       "    </tr>\n",
       "    <tr>\n",
       "      <th>80414</th>\n",
       "      <td>Harry Potter and the Chamber of Secrets (Book 2)</td>\n",
       "      <td>556</td>\n",
       "      <td>5.183453</td>\n",
       "    </tr>\n",
       "  </tbody>\n",
       "</table>\n",
       "</div>"
      ],
      "text/plain": [
       "                                              Book-Title  num_ratings  \\\n",
       "80434  Harry Potter and the Prisoner of Azkaban (Book 3)          428   \n",
       "80422       Harry Potter and the Goblet of Fire (Book 4)          387   \n",
       "80441     Harry Potter and the Sorcerer's Stone (Book 1)          278   \n",
       "80426  Harry Potter and the Order of the Phoenix (Boo...          347   \n",
       "80414   Harry Potter and the Chamber of Secrets (Book 2)          556   \n",
       "\n",
       "       avg_ratings  \n",
       "80434     5.852804  \n",
       "80422     5.824289  \n",
       "80441     5.737410  \n",
       "80426     5.501441  \n",
       "80414     5.183453  "
      ]
     },
     "execution_count": 25,
     "metadata": {},
     "output_type": "execute_result"
    }
   ],
   "source": [
    "popular_df.head()"
   ]
  },
  {
   "cell_type": "code",
   "execution_count": 26,
   "id": "a0637144",
   "metadata": {},
   "outputs": [
    {
     "data": {
      "text/html": [
       "<div>\n",
       "<style scoped>\n",
       "    .dataframe tbody tr th:only-of-type {\n",
       "        vertical-align: middle;\n",
       "    }\n",
       "\n",
       "    .dataframe tbody tr th {\n",
       "        vertical-align: top;\n",
       "    }\n",
       "\n",
       "    .dataframe thead th {\n",
       "        text-align: right;\n",
       "    }\n",
       "</style>\n",
       "<table border=\"1\" class=\"dataframe\">\n",
       "  <thead>\n",
       "    <tr style=\"text-align: right;\">\n",
       "      <th></th>\n",
       "      <th>ISBN</th>\n",
       "      <th>Book-Title</th>\n",
       "      <th>Book-Author</th>\n",
       "      <th>Year-Of-Publication</th>\n",
       "      <th>Publisher</th>\n",
       "      <th>Image-URL-S</th>\n",
       "      <th>Image-URL-M</th>\n",
       "      <th>Image-URL-L</th>\n",
       "    </tr>\n",
       "  </thead>\n",
       "  <tbody>\n",
       "    <tr>\n",
       "      <th>0</th>\n",
       "      <td>0195153448</td>\n",
       "      <td>Classical Mythology</td>\n",
       "      <td>Mark P. O. Morford</td>\n",
       "      <td>2002</td>\n",
       "      <td>Oxford University Press</td>\n",
       "      <td>http://images.amazon.com/images/P/0195153448.0...</td>\n",
       "      <td>http://images.amazon.com/images/P/0195153448.0...</td>\n",
       "      <td>http://images.amazon.com/images/P/0195153448.0...</td>\n",
       "    </tr>\n",
       "    <tr>\n",
       "      <th>1</th>\n",
       "      <td>0002005018</td>\n",
       "      <td>Clara Callan</td>\n",
       "      <td>Richard Bruce Wright</td>\n",
       "      <td>2001</td>\n",
       "      <td>HarperFlamingo Canada</td>\n",
       "      <td>http://images.amazon.com/images/P/0002005018.0...</td>\n",
       "      <td>http://images.amazon.com/images/P/0002005018.0...</td>\n",
       "      <td>http://images.amazon.com/images/P/0002005018.0...</td>\n",
       "    </tr>\n",
       "    <tr>\n",
       "      <th>2</th>\n",
       "      <td>0060973129</td>\n",
       "      <td>Decision in Normandy</td>\n",
       "      <td>Carlo D'Este</td>\n",
       "      <td>1991</td>\n",
       "      <td>HarperPerennial</td>\n",
       "      <td>http://images.amazon.com/images/P/0060973129.0...</td>\n",
       "      <td>http://images.amazon.com/images/P/0060973129.0...</td>\n",
       "      <td>http://images.amazon.com/images/P/0060973129.0...</td>\n",
       "    </tr>\n",
       "    <tr>\n",
       "      <th>3</th>\n",
       "      <td>0374157065</td>\n",
       "      <td>Flu: The Story of the Great Influenza Pandemic...</td>\n",
       "      <td>Gina Bari Kolata</td>\n",
       "      <td>1999</td>\n",
       "      <td>Farrar Straus Giroux</td>\n",
       "      <td>http://images.amazon.com/images/P/0374157065.0...</td>\n",
       "      <td>http://images.amazon.com/images/P/0374157065.0...</td>\n",
       "      <td>http://images.amazon.com/images/P/0374157065.0...</td>\n",
       "    </tr>\n",
       "    <tr>\n",
       "      <th>4</th>\n",
       "      <td>0393045218</td>\n",
       "      <td>The Mummies of Urumchi</td>\n",
       "      <td>E. J. W. Barber</td>\n",
       "      <td>1999</td>\n",
       "      <td>W. W. Norton &amp;amp; Company</td>\n",
       "      <td>http://images.amazon.com/images/P/0393045218.0...</td>\n",
       "      <td>http://images.amazon.com/images/P/0393045218.0...</td>\n",
       "      <td>http://images.amazon.com/images/P/0393045218.0...</td>\n",
       "    </tr>\n",
       "  </tbody>\n",
       "</table>\n",
       "</div>"
      ],
      "text/plain": [
       "         ISBN                                         Book-Title  \\\n",
       "0  0195153448                                Classical Mythology   \n",
       "1  0002005018                                       Clara Callan   \n",
       "2  0060973129                               Decision in Normandy   \n",
       "3  0374157065  Flu: The Story of the Great Influenza Pandemic...   \n",
       "4  0393045218                             The Mummies of Urumchi   \n",
       "\n",
       "            Book-Author Year-Of-Publication                   Publisher  \\\n",
       "0    Mark P. O. Morford                2002     Oxford University Press   \n",
       "1  Richard Bruce Wright                2001       HarperFlamingo Canada   \n",
       "2          Carlo D'Este                1991             HarperPerennial   \n",
       "3      Gina Bari Kolata                1999        Farrar Straus Giroux   \n",
       "4       E. J. W. Barber                1999  W. W. Norton &amp; Company   \n",
       "\n",
       "                                         Image-URL-S  \\\n",
       "0  http://images.amazon.com/images/P/0195153448.0...   \n",
       "1  http://images.amazon.com/images/P/0002005018.0...   \n",
       "2  http://images.amazon.com/images/P/0060973129.0...   \n",
       "3  http://images.amazon.com/images/P/0374157065.0...   \n",
       "4  http://images.amazon.com/images/P/0393045218.0...   \n",
       "\n",
       "                                         Image-URL-M  \\\n",
       "0  http://images.amazon.com/images/P/0195153448.0...   \n",
       "1  http://images.amazon.com/images/P/0002005018.0...   \n",
       "2  http://images.amazon.com/images/P/0060973129.0...   \n",
       "3  http://images.amazon.com/images/P/0374157065.0...   \n",
       "4  http://images.amazon.com/images/P/0393045218.0...   \n",
       "\n",
       "                                         Image-URL-L  \n",
       "0  http://images.amazon.com/images/P/0195153448.0...  \n",
       "1  http://images.amazon.com/images/P/0002005018.0...  \n",
       "2  http://images.amazon.com/images/P/0060973129.0...  \n",
       "3  http://images.amazon.com/images/P/0374157065.0...  \n",
       "4  http://images.amazon.com/images/P/0393045218.0...  "
      ]
     },
     "execution_count": 26,
     "metadata": {},
     "output_type": "execute_result"
    }
   ],
   "source": [
    "books.head()"
   ]
  },
  {
   "cell_type": "code",
   "execution_count": 27,
   "id": "020343c6",
   "metadata": {},
   "outputs": [],
   "source": [
    "popular_df = popular_df.merge(books, on = \"Book-Title\").drop_duplicates(\n",
    "    \"Book-Title\")[[\"Book-Title\", \"Book-Author\", \"Image-URL-M\", \"num_ratings\", \"avg_ratings\"]]"
   ]
  },
  {
   "cell_type": "code",
   "execution_count": 28,
   "id": "bc5434aa",
   "metadata": {},
   "outputs": [],
   "source": [
    "popular_df = popular_df.T.drop_duplicates().T"
   ]
  },
  {
   "cell_type": "code",
   "execution_count": 29,
   "id": "32d0dd03",
   "metadata": {},
   "outputs": [],
   "source": [
    "popular_df.rename(columns={\"Book-Author_x\":\"Book-Author\", \"Image-URL-M_y\" : \"Image-URL-M\"}, inplace = True)"
   ]
  },
  {
   "cell_type": "code",
   "execution_count": 30,
   "id": "b1dc0bb6",
   "metadata": {},
   "outputs": [],
   "source": [
    "popular_df.reset_index(inplace = True)"
   ]
  },
  {
   "cell_type": "code",
   "execution_count": 31,
   "id": "2e648656",
   "metadata": {},
   "outputs": [],
   "source": [
    "popular_df.drop([\"index\"], axis = 1, inplace = True)"
   ]
  },
  {
   "cell_type": "code",
   "execution_count": 32,
   "id": "c8a7ff56",
   "metadata": {},
   "outputs": [
    {
     "data": {
      "text/html": [
       "<div>\n",
       "<style scoped>\n",
       "    .dataframe tbody tr th:only-of-type {\n",
       "        vertical-align: middle;\n",
       "    }\n",
       "\n",
       "    .dataframe tbody tr th {\n",
       "        vertical-align: top;\n",
       "    }\n",
       "\n",
       "    .dataframe thead th {\n",
       "        text-align: right;\n",
       "    }\n",
       "</style>\n",
       "<table border=\"1\" class=\"dataframe\">\n",
       "  <thead>\n",
       "    <tr style=\"text-align: right;\">\n",
       "      <th></th>\n",
       "      <th>Book-Title</th>\n",
       "      <th>Book-Author</th>\n",
       "      <th>Image-URL-M</th>\n",
       "      <th>num_ratings</th>\n",
       "      <th>avg_ratings</th>\n",
       "    </tr>\n",
       "  </thead>\n",
       "  <tbody>\n",
       "    <tr>\n",
       "      <th>0</th>\n",
       "      <td>Harry Potter and the Prisoner of Azkaban (Book 3)</td>\n",
       "      <td>J. K. Rowling</td>\n",
       "      <td>http://images.amazon.com/images/P/0439136350.0...</td>\n",
       "      <td>428</td>\n",
       "      <td>5.852804</td>\n",
       "    </tr>\n",
       "    <tr>\n",
       "      <th>1</th>\n",
       "      <td>Harry Potter and the Goblet of Fire (Book 4)</td>\n",
       "      <td>J. K. Rowling</td>\n",
       "      <td>http://images.amazon.com/images/P/0439139597.0...</td>\n",
       "      <td>387</td>\n",
       "      <td>5.824289</td>\n",
       "    </tr>\n",
       "    <tr>\n",
       "      <th>2</th>\n",
       "      <td>Harry Potter and the Sorcerer's Stone (Book 1)</td>\n",
       "      <td>J. K. Rowling</td>\n",
       "      <td>http://images.amazon.com/images/P/0590353403.0...</td>\n",
       "      <td>278</td>\n",
       "      <td>5.73741</td>\n",
       "    </tr>\n",
       "  </tbody>\n",
       "</table>\n",
       "</div>"
      ],
      "text/plain": [
       "                                          Book-Title    Book-Author  \\\n",
       "0  Harry Potter and the Prisoner of Azkaban (Book 3)  J. K. Rowling   \n",
       "1       Harry Potter and the Goblet of Fire (Book 4)  J. K. Rowling   \n",
       "2     Harry Potter and the Sorcerer's Stone (Book 1)  J. K. Rowling   \n",
       "\n",
       "                                         Image-URL-M num_ratings avg_ratings  \n",
       "0  http://images.amazon.com/images/P/0439136350.0...         428    5.852804  \n",
       "1  http://images.amazon.com/images/P/0439139597.0...         387    5.824289  \n",
       "2  http://images.amazon.com/images/P/0590353403.0...         278     5.73741  "
      ]
     },
     "execution_count": 32,
     "metadata": {},
     "output_type": "execute_result"
    }
   ],
   "source": [
    "popular_df.head(3)"
   ]
  },
  {
   "cell_type": "markdown",
   "id": "e1c98ed5",
   "metadata": {},
   "source": [
    "## Simple Collaborative Filtering"
   ]
  },
  {
   "cell_type": "code",
   "execution_count": 33,
   "id": "352f9ec9",
   "metadata": {},
   "outputs": [],
   "source": [
    "x = df_books_ratings.groupby(\"User-ID\").count()[\"Book-Rating\"] > 200\n",
    "users_rating_200 = x[x].index"
   ]
  },
  {
   "cell_type": "code",
   "execution_count": 34,
   "id": "c26b9fef",
   "metadata": {},
   "outputs": [],
   "source": [
    "filtered_books_ratings_df = df_books_ratings[df_books_ratings[\"User-ID\"].isin(users_rating_200)]"
   ]
  },
  {
   "cell_type": "code",
   "execution_count": 35,
   "id": "7e1e4996",
   "metadata": {},
   "outputs": [],
   "source": [
    "y = filtered_books_ratings_df.groupby(\"Book-Title\").count()[\"Book-Rating\"] >= 10\n",
    "famous_books = y[y].index"
   ]
  },
  {
   "cell_type": "code",
   "execution_count": 36,
   "id": "7ef93844",
   "metadata": {},
   "outputs": [],
   "source": [
    "df = filtered_books_ratings_df[filtered_books_ratings_df[\"Book-Title\"].isin(famous_books)]"
   ]
  },
  {
   "cell_type": "code",
   "execution_count": 37,
   "id": "d66956fb",
   "metadata": {},
   "outputs": [],
   "source": [
    "df.drop_duplicates(inplace = True)"
   ]
  },
  {
   "cell_type": "code",
   "execution_count": 38,
   "id": "b8b77c8f",
   "metadata": {},
   "outputs": [
    {
     "data": {
      "text/html": [
       "<div>\n",
       "<style scoped>\n",
       "    .dataframe tbody tr th:only-of-type {\n",
       "        vertical-align: middle;\n",
       "    }\n",
       "\n",
       "    .dataframe tbody tr th {\n",
       "        vertical-align: top;\n",
       "    }\n",
       "\n",
       "    .dataframe thead th {\n",
       "        text-align: right;\n",
       "    }\n",
       "</style>\n",
       "<table border=\"1\" class=\"dataframe\">\n",
       "  <thead>\n",
       "    <tr style=\"text-align: right;\">\n",
       "      <th></th>\n",
       "      <th>User-ID</th>\n",
       "      <th>ISBN</th>\n",
       "      <th>Book-Rating</th>\n",
       "      <th>Book-Title</th>\n",
       "      <th>Book-Author</th>\n",
       "      <th>Year-Of-Publication</th>\n",
       "      <th>Publisher</th>\n",
       "      <th>Image-URL-S</th>\n",
       "      <th>Image-URL-M</th>\n",
       "      <th>Image-URL-L</th>\n",
       "    </tr>\n",
       "  </thead>\n",
       "  <tbody>\n",
       "    <tr>\n",
       "      <th>2</th>\n",
       "      <td>6543</td>\n",
       "      <td>034545104X</td>\n",
       "      <td>0</td>\n",
       "      <td>Flesh Tones: A Novel</td>\n",
       "      <td>M. J. Rose</td>\n",
       "      <td>2002</td>\n",
       "      <td>Ballantine Books</td>\n",
       "      <td>http://images.amazon.com/images/P/034545104X.0...</td>\n",
       "      <td>http://images.amazon.com/images/P/034545104X.0...</td>\n",
       "      <td>http://images.amazon.com/images/P/034545104X.0...</td>\n",
       "    </tr>\n",
       "    <tr>\n",
       "      <th>5</th>\n",
       "      <td>23768</td>\n",
       "      <td>034545104X</td>\n",
       "      <td>0</td>\n",
       "      <td>Flesh Tones: A Novel</td>\n",
       "      <td>M. J. Rose</td>\n",
       "      <td>2002</td>\n",
       "      <td>Ballantine Books</td>\n",
       "      <td>http://images.amazon.com/images/P/034545104X.0...</td>\n",
       "      <td>http://images.amazon.com/images/P/034545104X.0...</td>\n",
       "      <td>http://images.amazon.com/images/P/034545104X.0...</td>\n",
       "    </tr>\n",
       "    <tr>\n",
       "      <th>7</th>\n",
       "      <td>28523</td>\n",
       "      <td>034545104X</td>\n",
       "      <td>0</td>\n",
       "      <td>Flesh Tones: A Novel</td>\n",
       "      <td>M. J. Rose</td>\n",
       "      <td>2002</td>\n",
       "      <td>Ballantine Books</td>\n",
       "      <td>http://images.amazon.com/images/P/034545104X.0...</td>\n",
       "      <td>http://images.amazon.com/images/P/034545104X.0...</td>\n",
       "      <td>http://images.amazon.com/images/P/034545104X.0...</td>\n",
       "    </tr>\n",
       "  </tbody>\n",
       "</table>\n",
       "</div>"
      ],
      "text/plain": [
       "   User-ID        ISBN  Book-Rating            Book-Title Book-Author  \\\n",
       "2     6543  034545104X            0  Flesh Tones: A Novel  M. J. Rose   \n",
       "5    23768  034545104X            0  Flesh Tones: A Novel  M. J. Rose   \n",
       "7    28523  034545104X            0  Flesh Tones: A Novel  M. J. Rose   \n",
       "\n",
       "  Year-Of-Publication         Publisher  \\\n",
       "2                2002  Ballantine Books   \n",
       "5                2002  Ballantine Books   \n",
       "7                2002  Ballantine Books   \n",
       "\n",
       "                                         Image-URL-S  \\\n",
       "2  http://images.amazon.com/images/P/034545104X.0...   \n",
       "5  http://images.amazon.com/images/P/034545104X.0...   \n",
       "7  http://images.amazon.com/images/P/034545104X.0...   \n",
       "\n",
       "                                         Image-URL-M  \\\n",
       "2  http://images.amazon.com/images/P/034545104X.0...   \n",
       "5  http://images.amazon.com/images/P/034545104X.0...   \n",
       "7  http://images.amazon.com/images/P/034545104X.0...   \n",
       "\n",
       "                                         Image-URL-L  \n",
       "2  http://images.amazon.com/images/P/034545104X.0...  \n",
       "5  http://images.amazon.com/images/P/034545104X.0...  \n",
       "7  http://images.amazon.com/images/P/034545104X.0...  "
      ]
     },
     "execution_count": 38,
     "metadata": {},
     "output_type": "execute_result"
    }
   ],
   "source": [
    "df.head(3)"
   ]
  },
  {
   "cell_type": "code",
   "execution_count": 39,
   "id": "bc78b018",
   "metadata": {},
   "outputs": [
    {
     "data": {
      "text/plain": [
       "(191276, 10)"
      ]
     },
     "execution_count": 39,
     "metadata": {},
     "output_type": "execute_result"
    }
   ],
   "source": [
    "df.shape"
   ]
  },
  {
   "cell_type": "code",
   "execution_count": 40,
   "id": "f7405682",
   "metadata": {},
   "outputs": [],
   "source": [
    "pt = pd.pivot_table(data = df, index = \"Book-Title\", columns = \"User-ID\", values = \"Book-Rating\")"
   ]
  },
  {
   "cell_type": "code",
   "execution_count": 41,
   "id": "e503ba6d",
   "metadata": {},
   "outputs": [],
   "source": [
    "pt.fillna(0, inplace = True)"
   ]
  },
  {
   "cell_type": "code",
   "execution_count": 42,
   "id": "4e823f39",
   "metadata": {},
   "outputs": [],
   "source": [
    "from sklearn.metrics.pairwise import cosine_similarity"
   ]
  },
  {
   "cell_type": "code",
   "execution_count": 43,
   "id": "742ece0a",
   "metadata": {},
   "outputs": [],
   "source": [
    "similarity_score = cosine_similarity(pt)"
   ]
  },
  {
   "cell_type": "code",
   "execution_count": 44,
   "id": "700ccd0f",
   "metadata": {},
   "outputs": [],
   "source": [
    "def recommend(book_name):\n",
    "    #Fetch Index from book name\n",
    "    suggestion = []\n",
    "    book_index = np.where(pt.index == book_name)[0][0]\n",
    "    similar_items = sorted(list(enumerate(similarity_score[book_index])), key = lambda x : x[1], reverse = True)[1:8]\n",
    "    \n",
    "    for i in similar_items:\n",
    "        suggestion.append(pt.index[i[0]])\n",
    "    return suggestion"
   ]
  },
  {
   "cell_type": "code",
   "execution_count": 45,
   "id": "b6fc1451",
   "metadata": {},
   "outputs": [
    {
     "data": {
      "text/plain": [
       "['The Tale of the Body Thief (Vampire Chronicles (Paperback))',\n",
       " 'The Queen of the Damned (Vampire Chronicles (Paperback))',\n",
       " 'Interview with the Vampire',\n",
       " 'The Witching Hour (Lives of the Mayfair Witches)',\n",
       " 'Memnoch the Devil (Vampire Chronicles, No 5)',\n",
       " 'The Drawing of the Three (The Dark Tower, Book 2)',\n",
       " 'Wizard and Glass (The Dark Tower, Book 4)']"
      ]
     },
     "execution_count": 45,
     "metadata": {},
     "output_type": "execute_result"
    }
   ],
   "source": [
    "recommend(\"The Vampire Lestat (Vampire Chronicles, Book II)\")"
   ]
  },
  {
   "cell_type": "code",
   "execution_count": 46,
   "id": "d8053f23",
   "metadata": {},
   "outputs": [
    {
     "data": {
      "text/plain": [
       "['A Walk to Remember',\n",
       " 'Reba: My Story',\n",
       " 'The Rescue',\n",
       " 'Gates of Paradise',\n",
       " 'One Door Away from Heaven',\n",
       " 'Toxin',\n",
       " 'The Five People You Meet in Heaven']"
      ]
     },
     "execution_count": 46,
     "metadata": {},
     "output_type": "execute_result"
    }
   ],
   "source": [
    "recommend(\"The Notebook\")"
   ]
  },
  {
   "cell_type": "markdown",
   "id": "b3496b60",
   "metadata": {},
   "source": [
    "## KNN Recommender System"
   ]
  },
  {
   "cell_type": "code",
   "execution_count": 47,
   "id": "18aa4b00",
   "metadata": {},
   "outputs": [
    {
     "data": {
      "text/plain": [
       "<7830x811 sparse matrix of type '<class 'numpy.float64'>'\n",
       "\twith 44423 stored elements in Compressed Sparse Row format>"
      ]
     },
     "execution_count": 47,
     "metadata": {},
     "output_type": "execute_result"
    }
   ],
   "source": [
    "from scipy.sparse import csr_matrix\n",
    "\n",
    "book_features_df_matrix = csr_matrix(pt.values)\n",
    "book_features_df_matrix"
   ]
  },
  {
   "cell_type": "code",
   "execution_count": 48,
   "id": "2dea6ed6",
   "metadata": {},
   "outputs": [
    {
     "data": {
      "text/html": [
       "<style>#sk-container-id-1 {color: black;background-color: white;}#sk-container-id-1 pre{padding: 0;}#sk-container-id-1 div.sk-toggleable {background-color: white;}#sk-container-id-1 label.sk-toggleable__label {cursor: pointer;display: block;width: 100%;margin-bottom: 0;padding: 0.3em;box-sizing: border-box;text-align: center;}#sk-container-id-1 label.sk-toggleable__label-arrow:before {content: \"▸\";float: left;margin-right: 0.25em;color: #696969;}#sk-container-id-1 label.sk-toggleable__label-arrow:hover:before {color: black;}#sk-container-id-1 div.sk-estimator:hover label.sk-toggleable__label-arrow:before {color: black;}#sk-container-id-1 div.sk-toggleable__content {max-height: 0;max-width: 0;overflow: hidden;text-align: left;background-color: #f0f8ff;}#sk-container-id-1 div.sk-toggleable__content pre {margin: 0.2em;color: black;border-radius: 0.25em;background-color: #f0f8ff;}#sk-container-id-1 input.sk-toggleable__control:checked~div.sk-toggleable__content {max-height: 200px;max-width: 100%;overflow: auto;}#sk-container-id-1 input.sk-toggleable__control:checked~label.sk-toggleable__label-arrow:before {content: \"▾\";}#sk-container-id-1 div.sk-estimator input.sk-toggleable__control:checked~label.sk-toggleable__label {background-color: #d4ebff;}#sk-container-id-1 div.sk-label input.sk-toggleable__control:checked~label.sk-toggleable__label {background-color: #d4ebff;}#sk-container-id-1 input.sk-hidden--visually {border: 0;clip: rect(1px 1px 1px 1px);clip: rect(1px, 1px, 1px, 1px);height: 1px;margin: -1px;overflow: hidden;padding: 0;position: absolute;width: 1px;}#sk-container-id-1 div.sk-estimator {font-family: monospace;background-color: #f0f8ff;border: 1px dotted black;border-radius: 0.25em;box-sizing: border-box;margin-bottom: 0.5em;}#sk-container-id-1 div.sk-estimator:hover {background-color: #d4ebff;}#sk-container-id-1 div.sk-parallel-item::after {content: \"\";width: 100%;border-bottom: 1px solid gray;flex-grow: 1;}#sk-container-id-1 div.sk-label:hover label.sk-toggleable__label {background-color: #d4ebff;}#sk-container-id-1 div.sk-serial::before {content: \"\";position: absolute;border-left: 1px solid gray;box-sizing: border-box;top: 0;bottom: 0;left: 50%;z-index: 0;}#sk-container-id-1 div.sk-serial {display: flex;flex-direction: column;align-items: center;background-color: white;padding-right: 0.2em;padding-left: 0.2em;position: relative;}#sk-container-id-1 div.sk-item {position: relative;z-index: 1;}#sk-container-id-1 div.sk-parallel {display: flex;align-items: stretch;justify-content: center;background-color: white;position: relative;}#sk-container-id-1 div.sk-item::before, #sk-container-id-1 div.sk-parallel-item::before {content: \"\";position: absolute;border-left: 1px solid gray;box-sizing: border-box;top: 0;bottom: 0;left: 50%;z-index: -1;}#sk-container-id-1 div.sk-parallel-item {display: flex;flex-direction: column;z-index: 1;position: relative;background-color: white;}#sk-container-id-1 div.sk-parallel-item:first-child::after {align-self: flex-end;width: 50%;}#sk-container-id-1 div.sk-parallel-item:last-child::after {align-self: flex-start;width: 50%;}#sk-container-id-1 div.sk-parallel-item:only-child::after {width: 0;}#sk-container-id-1 div.sk-dashed-wrapped {border: 1px dashed gray;margin: 0 0.4em 0.5em 0.4em;box-sizing: border-box;padding-bottom: 0.4em;background-color: white;}#sk-container-id-1 div.sk-label label {font-family: monospace;font-weight: bold;display: inline-block;line-height: 1.2em;}#sk-container-id-1 div.sk-label-container {text-align: center;}#sk-container-id-1 div.sk-container {/* jupyter's `normalize.less` sets `[hidden] { display: none; }` but bootstrap.min.css set `[hidden] { display: none !important; }` so we also need the `!important` here to be able to override the default hidden behavior on the sphinx rendered scikit-learn.org. See: https://github.com/scikit-learn/scikit-learn/issues/21755 */display: inline-block !important;position: relative;}#sk-container-id-1 div.sk-text-repr-fallback {display: none;}</style><div id=\"sk-container-id-1\" class=\"sk-top-container\"><div class=\"sk-text-repr-fallback\"><pre>NearestNeighbors(algorithm=&#x27;brute&#x27;, metric=&#x27;cosine&#x27;, n_jobs=-1)</pre><b>In a Jupyter environment, please rerun this cell to show the HTML representation or trust the notebook. <br />On GitHub, the HTML representation is unable to render, please try loading this page with nbviewer.org.</b></div><div class=\"sk-container\" hidden><div class=\"sk-item\"><div class=\"sk-estimator sk-toggleable\"><input class=\"sk-toggleable__control sk-hidden--visually\" id=\"sk-estimator-id-1\" type=\"checkbox\" checked><label for=\"sk-estimator-id-1\" class=\"sk-toggleable__label sk-toggleable__label-arrow\">NearestNeighbors</label><div class=\"sk-toggleable__content\"><pre>NearestNeighbors(algorithm=&#x27;brute&#x27;, metric=&#x27;cosine&#x27;, n_jobs=-1)</pre></div></div></div></div></div>"
      ],
      "text/plain": [
       "NearestNeighbors(algorithm='brute', metric='cosine', n_jobs=-1)"
      ]
     },
     "execution_count": 48,
     "metadata": {},
     "output_type": "execute_result"
    }
   ],
   "source": [
    "from sklearn.neighbors import NearestNeighbors \n",
    "\n",
    "model_knn = NearestNeighbors(metric = \"cosine\", algorithm=\"brute\", n_jobs=-1)\n",
    "model_knn.fit(book_features_df_matrix)"
   ]
  },
  {
   "cell_type": "code",
   "execution_count": 49,
   "id": "c8056e26",
   "metadata": {},
   "outputs": [],
   "source": [
    "def KNN_recommender(book_name):\n",
    "    \n",
    "    suggestion = []\n",
    "    book_index = np.where(pt.index == book_name)[0][0]\n",
    "    distances, indices = model_knn.kneighbors(pt.iloc[book_index,:].values.reshape(1, -1), n_neighbors=8)\n",
    "    similar_items = sorted(list(zip(indices.tolist()[0], distances.tolist()[0]))[1:], reverse = True, key = lambda x:x[1])\n",
    "    suggestion = []\n",
    "    \n",
    "    for i in similar_items:\n",
    "        suggestion.append(pt.index[i[0]])\n",
    "    return suggestion"
   ]
  },
  {
   "cell_type": "code",
   "execution_count": 50,
   "id": "cee20740",
   "metadata": {},
   "outputs": [],
   "source": [
    "suggestion = KNN_recommender(\"The Vampire Lestat (Vampire Chronicles, Book II)\")"
   ]
  },
  {
   "cell_type": "code",
   "execution_count": 51,
   "id": "1db5bfd2",
   "metadata": {},
   "outputs": [
    {
     "data": {
      "text/plain": [
       "['Wizard and Glass (The Dark Tower, Book 4)',\n",
       " 'The Drawing of the Three (The Dark Tower, Book 2)',\n",
       " 'Memnoch the Devil (Vampire Chronicles, No 5)',\n",
       " 'The Witching Hour (Lives of the Mayfair Witches)',\n",
       " 'Interview with the Vampire',\n",
       " 'The Queen of the Damned (Vampire Chronicles (Paperback))',\n",
       " 'The Tale of the Body Thief (Vampire Chronicles (Paperback))']"
      ]
     },
     "execution_count": 51,
     "metadata": {},
     "output_type": "execute_result"
    }
   ],
   "source": [
    "suggestion"
   ]
  },
  {
   "cell_type": "code",
   "execution_count": 52,
   "id": "e6f1e802",
   "metadata": {},
   "outputs": [
    {
     "data": {
      "text/plain": [
       "['The Five People You Meet in Heaven',\n",
       " 'Toxin',\n",
       " 'One Door Away from Heaven',\n",
       " 'Gates of Paradise',\n",
       " 'The Rescue',\n",
       " 'Reba: My Story',\n",
       " 'A Walk to Remember']"
      ]
     },
     "execution_count": 52,
     "metadata": {},
     "output_type": "execute_result"
    }
   ],
   "source": [
    "KNN_recommender(\"The Notebook\")"
   ]
  },
  {
   "cell_type": "markdown",
   "id": "f45c0bfc",
   "metadata": {},
   "source": [
    "## ANN Recommender System"
   ]
  },
  {
   "cell_type": "code",
   "execution_count": 53,
   "id": "5931457d",
   "metadata": {},
   "outputs": [
    {
     "data": {
      "text/html": [
       "<div>\n",
       "<style scoped>\n",
       "    .dataframe tbody tr th:only-of-type {\n",
       "        vertical-align: middle;\n",
       "    }\n",
       "\n",
       "    .dataframe tbody tr th {\n",
       "        vertical-align: top;\n",
       "    }\n",
       "\n",
       "    .dataframe thead th {\n",
       "        text-align: right;\n",
       "    }\n",
       "</style>\n",
       "<table border=\"1\" class=\"dataframe\">\n",
       "  <thead>\n",
       "    <tr style=\"text-align: right;\">\n",
       "      <th></th>\n",
       "      <th>User-ID</th>\n",
       "      <th>ISBN</th>\n",
       "      <th>Book-Rating</th>\n",
       "      <th>Book-Title</th>\n",
       "      <th>Book-Author</th>\n",
       "      <th>Year-Of-Publication</th>\n",
       "      <th>Publisher</th>\n",
       "      <th>Image-URL-S</th>\n",
       "      <th>Image-URL-M</th>\n",
       "      <th>Image-URL-L</th>\n",
       "    </tr>\n",
       "  </thead>\n",
       "  <tbody>\n",
       "    <tr>\n",
       "      <th>2</th>\n",
       "      <td>6543</td>\n",
       "      <td>034545104X</td>\n",
       "      <td>0</td>\n",
       "      <td>Flesh Tones: A Novel</td>\n",
       "      <td>M. J. Rose</td>\n",
       "      <td>2002</td>\n",
       "      <td>Ballantine Books</td>\n",
       "      <td>http://images.amazon.com/images/P/034545104X.0...</td>\n",
       "      <td>http://images.amazon.com/images/P/034545104X.0...</td>\n",
       "      <td>http://images.amazon.com/images/P/034545104X.0...</td>\n",
       "    </tr>\n",
       "    <tr>\n",
       "      <th>5</th>\n",
       "      <td>23768</td>\n",
       "      <td>034545104X</td>\n",
       "      <td>0</td>\n",
       "      <td>Flesh Tones: A Novel</td>\n",
       "      <td>M. J. Rose</td>\n",
       "      <td>2002</td>\n",
       "      <td>Ballantine Books</td>\n",
       "      <td>http://images.amazon.com/images/P/034545104X.0...</td>\n",
       "      <td>http://images.amazon.com/images/P/034545104X.0...</td>\n",
       "      <td>http://images.amazon.com/images/P/034545104X.0...</td>\n",
       "    </tr>\n",
       "    <tr>\n",
       "      <th>7</th>\n",
       "      <td>28523</td>\n",
       "      <td>034545104X</td>\n",
       "      <td>0</td>\n",
       "      <td>Flesh Tones: A Novel</td>\n",
       "      <td>M. J. Rose</td>\n",
       "      <td>2002</td>\n",
       "      <td>Ballantine Books</td>\n",
       "      <td>http://images.amazon.com/images/P/034545104X.0...</td>\n",
       "      <td>http://images.amazon.com/images/P/034545104X.0...</td>\n",
       "      <td>http://images.amazon.com/images/P/034545104X.0...</td>\n",
       "    </tr>\n",
       "  </tbody>\n",
       "</table>\n",
       "</div>"
      ],
      "text/plain": [
       "   User-ID        ISBN  Book-Rating            Book-Title Book-Author  \\\n",
       "2     6543  034545104X            0  Flesh Tones: A Novel  M. J. Rose   \n",
       "5    23768  034545104X            0  Flesh Tones: A Novel  M. J. Rose   \n",
       "7    28523  034545104X            0  Flesh Tones: A Novel  M. J. Rose   \n",
       "\n",
       "  Year-Of-Publication         Publisher  \\\n",
       "2                2002  Ballantine Books   \n",
       "5                2002  Ballantine Books   \n",
       "7                2002  Ballantine Books   \n",
       "\n",
       "                                         Image-URL-S  \\\n",
       "2  http://images.amazon.com/images/P/034545104X.0...   \n",
       "5  http://images.amazon.com/images/P/034545104X.0...   \n",
       "7  http://images.amazon.com/images/P/034545104X.0...   \n",
       "\n",
       "                                         Image-URL-M  \\\n",
       "2  http://images.amazon.com/images/P/034545104X.0...   \n",
       "5  http://images.amazon.com/images/P/034545104X.0...   \n",
       "7  http://images.amazon.com/images/P/034545104X.0...   \n",
       "\n",
       "                                         Image-URL-L  \n",
       "2  http://images.amazon.com/images/P/034545104X.0...  \n",
       "5  http://images.amazon.com/images/P/034545104X.0...  \n",
       "7  http://images.amazon.com/images/P/034545104X.0...  "
      ]
     },
     "execution_count": 53,
     "metadata": {},
     "output_type": "execute_result"
    }
   ],
   "source": [
    "df.head(3)"
   ]
  },
  {
   "cell_type": "code",
   "execution_count": 54,
   "id": "1d2fe2d3",
   "metadata": {},
   "outputs": [
    {
     "data": {
      "text/plain": [
       "array([ 0,  9,  6,  3, 10,  7,  8,  5,  4,  2,  1], dtype=int64)"
      ]
     },
     "execution_count": 54,
     "metadata": {},
     "output_type": "execute_result"
    }
   ],
   "source": [
    "df[\"Book-Rating\"].unique()"
   ]
  },
  {
   "cell_type": "code",
   "execution_count": 55,
   "id": "b4281caf",
   "metadata": {},
   "outputs": [
    {
     "name": "stdout",
     "output_type": "stream",
     "text": [
      "Duplicated Rows:\n",
      "Empty DataFrame\n",
      "Columns: [User-ID, ISBN, Book-Rating, Book-Title, Book-Author, Year-Of-Publication, Publisher, Image-URL-S, Image-URL-M, Image-URL-L]\n",
      "Index: []\n"
     ]
    }
   ],
   "source": [
    "# Checking if there are any duplicate rows\n",
    "duplicated_rows = df[df.duplicated()]\n",
    "print(\"Duplicated Rows:\")\n",
    "print(duplicated_rows)"
   ]
  },
  {
   "cell_type": "code",
   "execution_count": 56,
   "id": "8e3adff1",
   "metadata": {},
   "outputs": [
    {
     "name": "stdout",
     "output_type": "stream",
     "text": [
      "Average Score: 1.859135490077166\n"
     ]
    }
   ],
   "source": [
    "# Calculating the average score\n",
    "avg_score = np.mean(df['Book-Rating'])\n",
    "print('Average Score:', avg_score)"
   ]
  },
  {
   "cell_type": "code",
   "execution_count": 57,
   "id": "c8d42ede",
   "metadata": {},
   "outputs": [],
   "source": [
    "from sklearn.preprocessing import MinMaxScaler\n",
    "\n",
    "# Scaling our \"rating\" column\n",
    "# Create a MinMaxScaler object\n",
    "scaler = MinMaxScaler(feature_range=(0, 1))\n",
    "\n",
    "# Scale the 'score' column between 0 and 1\n",
    "df['scaled_score'] = scaler.fit_transform(df[['Book-Rating']])\n"
   ]
  },
  {
   "cell_type": "code",
   "execution_count": 58,
   "id": "e744d976",
   "metadata": {},
   "outputs": [
    {
     "data": {
      "text/plain": [
       "array([0. , 0.9, 0.6, 0.3, 1. , 0.7, 0.8, 0.5, 0.4, 0.2, 0.1])"
      ]
     },
     "execution_count": 58,
     "metadata": {},
     "output_type": "execute_result"
    }
   ],
   "source": [
    "df['scaled_score'].unique()"
   ]
  },
  {
   "cell_type": "code",
   "execution_count": 59,
   "id": "3655b3ad",
   "metadata": {},
   "outputs": [],
   "source": [
    "df1 = df[[\"User-ID\", \"ISBN\", \"Book-Rating\"]]"
   ]
  },
  {
   "cell_type": "code",
   "execution_count": 60,
   "id": "d1052134",
   "metadata": {},
   "outputs": [
    {
     "data": {
      "text/plain": [
       "array([ 0,  9,  6,  3, 10,  7,  8,  5,  4,  2,  1], dtype=int64)"
      ]
     },
     "execution_count": 60,
     "metadata": {},
     "output_type": "execute_result"
    }
   ],
   "source": [
    "df1[\"Book-Rating\"].unique()"
   ]
  },
  {
   "cell_type": "code",
   "execution_count": 61,
   "id": "0367dec2",
   "metadata": {},
   "outputs": [],
   "source": [
    "df1[\"Book-Rating\"] = df1[\"Book-Rating\"] /df1[\"Book-Rating\"].abs().max()"
   ]
  },
  {
   "cell_type": "code",
   "execution_count": 62,
   "id": "f867125e",
   "metadata": {},
   "outputs": [
    {
     "data": {
      "text/plain": [
       "array([0. , 0.9, 0.6, 0.3, 1. , 0.7, 0.8, 0.5, 0.4, 0.2, 0.1])"
      ]
     },
     "execution_count": 62,
     "metadata": {},
     "output_type": "execute_result"
    }
   ],
   "source": [
    "df1[\"Book-Rating\"].unique()"
   ]
  },
  {
   "cell_type": "code",
   "execution_count": 63,
   "id": "6c08da45",
   "metadata": {},
   "outputs": [
    {
     "data": {
      "text/html": [
       "<div>\n",
       "<style scoped>\n",
       "    .dataframe tbody tr th:only-of-type {\n",
       "        vertical-align: middle;\n",
       "    }\n",
       "\n",
       "    .dataframe tbody tr th {\n",
       "        vertical-align: top;\n",
       "    }\n",
       "\n",
       "    .dataframe thead th {\n",
       "        text-align: right;\n",
       "    }\n",
       "</style>\n",
       "<table border=\"1\" class=\"dataframe\">\n",
       "  <thead>\n",
       "    <tr style=\"text-align: right;\">\n",
       "      <th></th>\n",
       "      <th>User-ID</th>\n",
       "      <th>ISBN</th>\n",
       "      <th>Book-Rating</th>\n",
       "    </tr>\n",
       "  </thead>\n",
       "  <tbody>\n",
       "    <tr>\n",
       "      <th>2</th>\n",
       "      <td>6543</td>\n",
       "      <td>034545104X</td>\n",
       "      <td>0.0</td>\n",
       "    </tr>\n",
       "    <tr>\n",
       "      <th>5</th>\n",
       "      <td>23768</td>\n",
       "      <td>034545104X</td>\n",
       "      <td>0.0</td>\n",
       "    </tr>\n",
       "    <tr>\n",
       "      <th>7</th>\n",
       "      <td>28523</td>\n",
       "      <td>034545104X</td>\n",
       "      <td>0.0</td>\n",
       "    </tr>\n",
       "    <tr>\n",
       "      <th>15</th>\n",
       "      <td>77940</td>\n",
       "      <td>034545104X</td>\n",
       "      <td>0.0</td>\n",
       "    </tr>\n",
       "    <tr>\n",
       "      <th>16</th>\n",
       "      <td>81977</td>\n",
       "      <td>034545104X</td>\n",
       "      <td>0.0</td>\n",
       "    </tr>\n",
       "    <tr>\n",
       "      <th>...</th>\n",
       "      <td>...</td>\n",
       "      <td>...</td>\n",
       "      <td>...</td>\n",
       "    </tr>\n",
       "    <tr>\n",
       "      <th>1030065</th>\n",
       "      <td>274301</td>\n",
       "      <td>0575042729</td>\n",
       "      <td>0.0</td>\n",
       "    </tr>\n",
       "    <tr>\n",
       "      <th>1030173</th>\n",
       "      <td>274308</td>\n",
       "      <td>0449209849</td>\n",
       "      <td>0.0</td>\n",
       "    </tr>\n",
       "    <tr>\n",
       "      <th>1030220</th>\n",
       "      <td>274308</td>\n",
       "      <td>0812880846</td>\n",
       "      <td>0.0</td>\n",
       "    </tr>\n",
       "    <tr>\n",
       "      <th>1030824</th>\n",
       "      <td>275970</td>\n",
       "      <td>0865714215</td>\n",
       "      <td>0.0</td>\n",
       "    </tr>\n",
       "    <tr>\n",
       "      <th>1030868</th>\n",
       "      <td>275970</td>\n",
       "      <td>1586210661</td>\n",
       "      <td>0.9</td>\n",
       "    </tr>\n",
       "  </tbody>\n",
       "</table>\n",
       "<p>191276 rows × 3 columns</p>\n",
       "</div>"
      ],
      "text/plain": [
       "         User-ID        ISBN  Book-Rating\n",
       "2           6543  034545104X          0.0\n",
       "5          23768  034545104X          0.0\n",
       "7          28523  034545104X          0.0\n",
       "15         77940  034545104X          0.0\n",
       "16         81977  034545104X          0.0\n",
       "...          ...         ...          ...\n",
       "1030065   274301  0575042729          0.0\n",
       "1030173   274308  0449209849          0.0\n",
       "1030220   274308  0812880846          0.0\n",
       "1030824   275970  0865714215          0.0\n",
       "1030868   275970  1586210661          0.9\n",
       "\n",
       "[191276 rows x 3 columns]"
      ]
     },
     "execution_count": 63,
     "metadata": {},
     "output_type": "execute_result"
    }
   ],
   "source": [
    "df1"
   ]
  },
  {
   "cell_type": "code",
   "execution_count": 64,
   "id": "5fd3dbf2",
   "metadata": {},
   "outputs": [
    {
     "name": "stdout",
     "output_type": "stream",
     "text": [
      "Number of unique users: 811, Number of unique book: 15561\n",
      "Minimum rating: 0, Maximum rating: 10\n"
     ]
    }
   ],
   "source": [
    "from sklearn.preprocessing import LabelEncoder\n",
    "\n",
    "# Encoding categorical data\n",
    "\n",
    "## Encoding user IDs\n",
    "user_encoder = LabelEncoder()\n",
    "df[\"user_encoded\"] = user_encoder.fit_transform(df[\"User-ID\"])\n",
    "num_users = len(user_encoder.classes_)\n",
    "\n",
    "## Encoding book IDs\n",
    "book_encoder = LabelEncoder()\n",
    "df[\"book_encoded\"] = book_encoder.fit_transform(df[\"ISBN\"])\n",
    "num_books = len(book_encoder.classes_)\n",
    "\n",
    "\n",
    "\n",
    "# Printing dataset information\n",
    "print(\"Number of unique users: {}, Number of unique book: {}\".format(num_users, num_books))\n",
    "print(\"Minimum rating: {}, Maximum rating: {}\".format(min(df['Book-Rating']), max(df['Book-Rating'])))"
   ]
  },
  {
   "cell_type": "code",
   "execution_count": 65,
   "id": "3ef709f4",
   "metadata": {},
   "outputs": [],
   "source": [
    "# userIds = df1[\"User-ID\"].unique().tolist()\n",
    "# user2user_encoded = {x: i for i, x in enumerate(userIds)}\n",
    "# userencoded2user = {i: x for i, x in enumerate(userIds)}\n",
    "\n",
    "# bookIds = df1[\"ISBN\"].unique().tolist()\n",
    "# book2book_encoded = {x: i for i, x in enumerate(bookIds)}\n",
    "# book_encoded2book = {i: x for i, x in enumerate(bookIds)}\n",
    "\n",
    "# df1[\"user\"] = df1[\"User-ID\"].map(user2user_encoded)\n",
    "# df1[\"book\"] = df1[\"ISBN\"].map(book2book_encoded)"
   ]
  },
  {
   "cell_type": "code",
   "execution_count": 66,
   "id": "e252635f",
   "metadata": {},
   "outputs": [
    {
     "name": "stdout",
     "output_type": "stream",
     "text": [
      "Shape of X: (191276, 2)\n",
      "Shape of y: (191276,)\n"
     ]
    }
   ],
   "source": [
    "# bookIds = df1[\"ISBN\"].unique().tolist()\n",
    "from sklearn.utils import shuffle\n",
    "\n",
    "df = shuffle(df, random_state=42)\n",
    "\n",
    "# Create feature matrix X and target variable y\n",
    "X = df[['user_encoded', 'book_encoded']].values\n",
    "y = df[\"scaled_score\"].values\n",
    "\n",
    "# Printing dataset information\n",
    "print(\"Shape of X:\", X.shape)\n",
    "print(\"Shape of y:\", y.shape)"
   ]
  },
  {
   "cell_type": "code",
   "execution_count": 67,
   "id": "0771abb3",
   "metadata": {},
   "outputs": [
    {
     "name": "stdout",
     "output_type": "stream",
     "text": [
      "Number of samples in the training set: 181276\n",
      "Number of samples in the test set: 10000\n"
     ]
    }
   ],
   "source": [
    "from sklearn.model_selection import train_test_split\n",
    "\n",
    "test_set_size = 10000  # Number of samples to include in the test set\n",
    "\n",
    "X_train, X_test, y_train, y_test = train_test_split(X, y, test_size=test_set_size, random_state=73)\n",
    "\n",
    "print(\"Number of samples in the training set:\", len(y_train))\n",
    "print(\"Number of samples in the test set:\", len(y_test))"
   ]
  },
  {
   "cell_type": "code",
   "execution_count": 68,
   "id": "b90734d9",
   "metadata": {},
   "outputs": [],
   "source": [
    "# Prepare input data for model training and evaluation\n",
    "X_train_array = [X_train[:, 0], X_train[:, 1]]\n",
    "X_test_array = [X_test[:, 0], X_test[:, 1]]"
   ]
  },
  {
   "cell_type": "code",
   "execution_count": 69,
   "id": "068901d6",
   "metadata": {},
   "outputs": [],
   "source": [
    "# import tensorflow as tf\n",
    "\n",
    "# # Setting TPU_INIT flag\n",
    "# USE_TPU = True\n",
    "\n",
    "# # Checking if TPU is initialized\n",
    "# if USE_TPU:\n",
    "#     # If tpu is connected then start creating TPUStrategy\n",
    "#     tpu_resolver = tf.distribute.cluster_resolver.TPUClusterResolver.connect()\n",
    "#     tpu_strategy = tf.distribute.experimental.TPUStrategy(tpu_resolver)\n",
    "# else:\n",
    "#     !nvidia-smi\n",
    "    \n",
    "# # Print the TensorFlow version\n",
    "# tf_version = tf.__version__\n",
    "# print(f\"TensorFlow version: {tf_version}\")"
   ]
  },
  {
   "cell_type": "code",
   "execution_count": 70,
   "id": "0038f89a",
   "metadata": {},
   "outputs": [],
   "source": [
    "# df1 = df1.sample(frac=1, random_state=42)"
   ]
  },
  {
   "cell_type": "code",
   "execution_count": 71,
   "id": "28b83d6f",
   "metadata": {},
   "outputs": [],
   "source": [
    "# X = df1[[\"user\", \"book\"]].values\n",
    "# # Normalize the targets between 0 and 1. Makes it easy to train\n",
    "# y = df1[\"Book-Rating\"]\n",
    "# train_indices = int(0.9 * df.shape[0])\n",
    "# X_train, X_test, y_train, y_test = (\n",
    "#     X[ : train_indices],\n",
    "#     X[train_indices : ],\n",
    "#     y[ : train_indices],\n",
    "#     y[train_indices : ]\n",
    "# )"
   ]
  },
  {
   "cell_type": "code",
   "execution_count": 90,
   "id": "d79e5490",
   "metadata": {},
   "outputs": [],
   "source": [
    "#!pip install keras\n"
   ]
  },
  {
   "cell_type": "code",
   "execution_count": 91,
   "id": "d49b2020",
   "metadata": {},
   "outputs": [],
   "source": [
    "#!pip install tensorflow"
   ]
  },
  {
   "cell_type": "code",
   "execution_count": 92,
   "id": "748672dd",
   "metadata": {},
   "outputs": [],
   "source": [
    "#!pip install pydot"
   ]
  },
  {
   "cell_type": "code",
   "execution_count": 75,
   "id": "0375bced",
   "metadata": {},
   "outputs": [],
   "source": [
    "# import tensorflow as tf\n",
    "# from tensorflow.keras.metrics import Precision, Recall\n",
    "\n",
    "# class MeanAveragePrecision(tf.keras.metrics.Metric):\n",
    "#     def __init__(self, name='mean_average_precision', **kwargs):\n",
    "#         super(MeanAveragePrecision, self).__init__(name=name, **kwargs)\n",
    "#         self.precision = Precision()\n",
    "#         self.recall = Recall()\n",
    "#         self.average_precision = self.add_weight(name='average_precision', initializer='zeros')\n",
    "#         self.count = self.add_weight(name='count', initializer='zeros')\n",
    "\n",
    "#     def update_state(self, y_true, y_pred, sample_weight=None):\n",
    "#         self.precision.update_state(y_true, y_pred, sample_weight)\n",
    "#         self.recall.update_state(y_true, y_pred, sample_weight)\n",
    "#         average_precision = self.calculate_average_precision(y_true, y_pred)\n",
    "#         self.average_precision.assign_add(average_precision)\n",
    "#         self.count.assign_add(1.0)\n",
    "\n",
    "#     def result(self):\n",
    "#         precision_value = self.precision.result()\n",
    "#         recall_value = self.recall.result()\n",
    "#         average_precision_value = tf.math.divide_no_nan(self.average_precision, self.count)\n",
    "#         self.reset_states()\n",
    "#         return average_precision_value\n",
    "\n",
    "#     def reset_states(self):\n",
    "#         self.precision.reset_states()\n",
    "#         self.recall.reset_states()\n",
    "#         self.average_precision.assign(0.0)\n",
    "#         self.count.assign(0.0)\n",
    "\n",
    "#     def calculate_average_precision(self, y_true, y_pred):\n",
    "#         sorted_indices = tf.argsort(y_pred, direction='DESCENDING')\n",
    "#         sorted_y_true = tf.gather(y_true, sorted_indices)\n",
    "#         true_positives = tf.math.cumsum(sorted_y_true)\n",
    "#         indices = tf.range(1, tf.shape(sorted_y_true)[0] + 1)\n",
    "#         precision = tf.math.divide_no_nan(true_positives, tf.cast(indices, tf.float32))  # Convert indices to float32\n",
    "#         recall = tf.math.divide_no_nan(true_positives, tf.reduce_sum(y_true))\n",
    "#         interpolated_precision = tf.reduce_max(precision, axis=0)\n",
    "#         interpolated_precision = tf.concat([[0.0], interpolated_precision, [0.0]], axis=0)\n",
    "#         recall = tf.concat([[0.0], recall, [1.0]], axis=0)\n",
    "#         average_precision = tf.reduce_sum((recall[1:] - recall[:-1]) * interpolated_precision[:-1])\n",
    "#         return average_precision"
   ]
  },
  {
   "cell_type": "code",
   "execution_count": 76,
   "id": "6b5c24ac",
   "metadata": {},
   "outputs": [
    {
     "name": "stdout",
     "output_type": "stream",
     "text": [
      "Current working directory: C:\\Users\\lenovo\n"
     ]
    }
   ],
   "source": [
    "import os\n",
    "\n",
    "current_path = os.getcwd()\n",
    "print(\"Current working directory:\", current_path)"
   ]
  },
  {
   "cell_type": "code",
   "execution_count": 93,
   "id": "0522e109",
   "metadata": {},
   "outputs": [
    {
     "name": "stdout",
     "output_type": "stream",
     "text": [
      "Model: \"model_1\"\n",
      "__________________________________________________________________________________________________\n",
      " Layer (type)                   Output Shape         Param #     Connected to                     \n",
      "==================================================================================================\n",
      " user_encoded (InputLayer)      [(None, 1)]          0           []                               \n",
      "                                                                                                  \n",
      " book_encoded (InputLayer)      [(None, 1)]          0           []                               \n",
      "                                                                                                  \n",
      " user_embedding (Embedding)     (None, 1, 128)       103808      ['user_encoded[0][0]']           \n",
      "                                                                                                  \n",
      " book_embedding (Embedding)     (None, 1, 128)       1991808     ['book_encoded[0][0]']           \n",
      "                                                                                                  \n",
      " reshape_2 (Reshape)            (None, 128)          0           ['user_embedding[0][0]']         \n",
      "                                                                                                  \n",
      " reshape_3 (Reshape)            (None, 128)          0           ['book_embedding[0][0]']         \n",
      "                                                                                                  \n",
      " dot_product (Dot)              (None, 1)            0           ['reshape_2[0][0]',              \n",
      "                                                                  'reshape_3[0][0]']              \n",
      "                                                                                                  \n",
      " dense_6 (Dense)                (None, 500)          1000        ['dot_product[0][0]']            \n",
      "                                                                                                  \n",
      " dropout_5 (Dropout)            (None, 500)          0           ['dense_6[0][0]']                \n",
      "                                                                                                  \n",
      " dense_7 (Dense)                (None, 300)          150300      ['dropout_5[0][0]']              \n",
      "                                                                                                  \n",
      " dropout_6 (Dropout)            (None, 300)          0           ['dense_7[0][0]']                \n",
      "                                                                                                  \n",
      " dense_8 (Dense)                (None, 150)          45150       ['dropout_6[0][0]']              \n",
      "                                                                                                  \n",
      " dropout_7 (Dropout)            (None, 150)          0           ['dense_8[0][0]']                \n",
      "                                                                                                  \n",
      " dense_9 (Dense)                (None, 100)          15100       ['dropout_7[0][0]']              \n",
      "                                                                                                  \n",
      " dropout_8 (Dropout)            (None, 100)          0           ['dense_9[0][0]']                \n",
      "                                                                                                  \n",
      " concatenate_1 (Concatenate)    (None, 356)          0           ['dropout_8[0][0]',              \n",
      "                                                                  'reshape_2[0][0]',              \n",
      "                                                                  'reshape_3[0][0]']              \n",
      "                                                                                                  \n",
      " dense_10 (Dense)               (None, 50)           17850       ['concatenate_1[0][0]']          \n",
      "                                                                                                  \n",
      " dropout_9 (Dropout)            (None, 50)           0           ['dense_10[0][0]']               \n",
      "                                                                                                  \n",
      " dense_11 (Dense)               (None, 1)            51          ['dropout_9[0][0]']              \n",
      "                                                                                                  \n",
      "==================================================================================================\n",
      "Total params: 2,325,067\n",
      "Trainable params: 2,325,067\n",
      "Non-trainable params: 0\n",
      "__________________________________________________________________________________________________\n"
     ]
    }
   ],
   "source": [
    "from keras.models import Model\n",
    "from keras.models import load_model\n",
    "from keras.optimizers import Adam\n",
    "from keras.models import Sequential\n",
    "from tensorflow import keras\n",
    "from keras import layers\n",
    "import pydot\n",
    "from keras.utils import plot_model\n",
    "from keras.callbacks import EarlyStopping\n",
    "from keras.layers import Reshape, Input, Embedding, Flatten, Dense, Dot, Dropout, Concatenate\n",
    "from tensorflow.keras.regularizers import l2\n",
    "\n",
    "from tensorflow.keras.layers import Dropout, Concatenate, Reshape\n",
    "from tensorflow.keras.models import Model\n",
    "from tensorflow.keras.optimizers import Adam\n",
    "from tensorflow.keras.layers import Input, Embedding, Dense, Flatten, Dot\n",
    "from tensorflow.keras.regularizers import l2\n",
    "from tensorflow.keras.callbacks import ModelCheckpoint, LearningRateScheduler, EarlyStopping\n",
    "from tensorflow.keras.metrics import Precision, Recall\n",
    "\n",
    "\n",
    "def RecommenderNet(num_users, num_books, embedding_size=128):\n",
    "    \n",
    "    # User input layer and embedding layer\n",
    "    user = Input(name='user_encoded', shape=[1])\n",
    "    user_embedding = Embedding(name='user_embedding', input_dim=num_users, output_dim=embedding_size,\n",
    "                               embeddings_regularizer=l2(1e-2))(user)\n",
    "    user_embedding = Reshape(target_shape=[embedding_size])(user_embedding)  # Reshape user_embedding\n",
    "\n",
    "    # Book input layer and embedding layer\n",
    "    book = Input(name='book_encoded', shape=[1])\n",
    "    book_embedding = Embedding(name='book_embedding', input_dim=num_books, output_dim=embedding_size,\n",
    "                               embeddings_regularizer=l2(1e-2))(book)\n",
    "    book_embedding = Reshape(target_shape=[embedding_size])(book_embedding)  # Reshape book_embedding\n",
    "\n",
    "    # Dot product of user and Book embeddings\n",
    "    dot_product = Dot(name='dot_product', normalize=True, axes=1)([user_embedding, book_embedding])\n",
    "\n",
    "    # Dense layers for prediction\n",
    "    dense1 = Dense(500, activation=\"relu\", kernel_initializer=\"he_normal\")(dot_product)\n",
    "    dropout1 = Dropout(0.5)(dense1)  # Add dropout after the first dense layer\n",
    "\n",
    "    dense2 = Dense(300, activation=\"relu\", kernel_initializer=\"he_normal\")(dropout1)\n",
    "    dropout2 = Dropout(0.5)(dense2)  # Add dropout after the second dense layer\n",
    "\n",
    "    dense3 = Dense(150, activation=\"relu\", kernel_initializer=\"he_normal\")(dropout2)\n",
    "    dropout3 = Dropout(0.5)(dense3)  # Add dropout after the third dense layer\n",
    "\n",
    "    dense4 = Dense(100, activation=\"relu\", kernel_initializer=\"he_normal\")(dropout3)\n",
    "    dropout4 = Dropout(0.5)(dense4)  # Add dropout after the fourth dense layer\n",
    "\n",
    "    # Concatenate user and book embeddings\n",
    "    concatenated = Concatenate()([dropout4, user_embedding, book_embedding])\n",
    "\n",
    "    dense5 = Dense(50, activation=\"relu\", kernel_initializer=\"he_normal\")(concatenated)\n",
    "    dropout5 = Dropout(0.5)(dense5)  # Add dropout after the fifth dense layer\n",
    "\n",
    "    output = Dense(1, activation=\"sigmoid\")(dropout5)\n",
    "\n",
    "    # Create and compile the model\n",
    "    model = Model(inputs=[user, book], outputs=output)\n",
    "    model.compile(loss='binary_crossentropy', optimizer=Adam(learning_rate=0.001), metrics=[Precision(), Recall()])\n",
    "\n",
    "    return model\n",
    "\n",
    "\n",
    "model = RecommenderNet(num_users, num_books)\n",
    "model.summary()"
   ]
  },
  {
   "cell_type": "code",
   "execution_count": 94,
   "id": "b7ca4ba2",
   "metadata": {},
   "outputs": [],
   "source": [
    "## Import necessary callbacks\n",
    "from tensorflow.keras.callbacks import ModelCheckpoint, LearningRateScheduler, EarlyStopping\n",
    "\n",
    "# Define the initial learning rate, minimum learning rate, maximum learning rate, and batch size\n",
    "start_lr = 0.00001\n",
    "min_lr = 0.00001\n",
    "max_lr = 0.00005\n",
    "batch_size = 10000\n",
    "\n",
    "# Define the number of epochs for ramp-up, sustain, and exponential decay\n",
    "rampup_epochs = 5\n",
    "sustain_epochs = 0\n",
    "exp_decay = .8\n",
    "\n",
    "# Learning rate schedule function\n",
    "def lrfn(epoch):\n",
    "    if epoch < rampup_epochs:\n",
    "        return (max_lr - start_lr) / rampup_epochs * epoch + start_lr\n",
    "    elif epoch < rampup_epochs + sustain_epochs:\n",
    "        return max_lr\n",
    "    else:\n",
    "        return (max_lr - min_lr) * exp_decay**(epoch - rampup_epochs - sustain_epochs) + min_lr\n",
    "\n",
    "# Learning rate scheduler callback\n",
    "lr_callback = LearningRateScheduler(lambda epoch: lrfn(epoch), verbose=1)\n",
    "\n",
    "# File path for saving the model weights\n",
    "checkpoint_filepath = 'D:\\\\book-recommendation-system\\\\working\\\\mybookweights.h5'\n",
    "\n",
    "# Model checkpoint callback to save the best weights\n",
    "model_checkpoints = ModelCheckpoint(filepath=checkpoint_filepath,\n",
    "                                    save_weights_only=True,\n",
    "                                    monitor='val_loss',\n",
    "                                    mode='min',\n",
    "                                    save_best_only=True)\n",
    "\n",
    "# Early stopping callback to prevent overfitting\n",
    "early_stopping = EarlyStopping(patience=3, monitor='val_loss', mode='min', restore_best_weights=True)\n",
    "\n",
    "# Define the list of callbacks\n",
    "my_callbacks = [\n",
    "    model_checkpoints,\n",
    "    early_stopping\n",
    "]"
   ]
  },
  {
   "cell_type": "code",
   "execution_count": 95,
   "id": "47d213dc",
   "metadata": {},
   "outputs": [
    {
     "name": "stdout",
     "output_type": "stream",
     "text": [
      "Epoch 1/20\n",
      "19/19 [==============================] - 6s 232ms/step - loss: 11.1808 - precision_1: 0.2354 - recall_1: 0.1069 - val_loss: 5.2499 - val_precision_1: 0.0000e+00 - val_recall_1: 0.0000e+00\n",
      "Epoch 2/20\n",
      "19/19 [==============================] - 4s 217ms/step - loss: 3.0226 - precision_1: 0.2727 - recall_1: 2.8139e-04 - val_loss: 1.4316 - val_precision_1: 0.0000e+00 - val_recall_1: 0.0000e+00\n",
      "Epoch 3/20\n",
      "19/19 [==============================] - 4s 223ms/step - loss: 0.9902 - precision_1: 0.5385 - recall_1: 1.6415e-04 - val_loss: 0.7564 - val_precision_1: 0.0000e+00 - val_recall_1: 0.0000e+00\n",
      "Epoch 4/20\n",
      "19/19 [==============================] - 4s 219ms/step - loss: 0.6852 - precision_1: 0.6000 - recall_1: 7.0348e-05 - val_loss: 0.6166 - val_precision_1: 0.0000e+00 - val_recall_1: 0.0000e+00\n",
      "Epoch 5/20\n",
      "19/19 [==============================] - 4s 218ms/step - loss: 0.5933 - precision_1: 0.6522 - recall_1: 3.5174e-04 - val_loss: 0.5798 - val_precision_1: 0.0000e+00 - val_recall_1: 0.0000e+00\n",
      "Epoch 6/20\n",
      "19/19 [==============================] - 4s 219ms/step - loss: 0.5694 - precision_1: 0.7169 - recall_1: 0.0056 - val_loss: 0.5627 - val_precision_1: 0.0000e+00 - val_recall_1: 0.0000e+00\n",
      "Epoch 7/20\n",
      "19/19 [==============================] - 4s 220ms/step - loss: 0.5522 - precision_1: 0.7144 - recall_1: 0.0330 - val_loss: 0.5642 - val_precision_1: 0.7333 - val_recall_1: 0.0451\n",
      "Epoch 8/20\n",
      "19/19 [==============================] - 4s 220ms/step - loss: 0.5634 - precision_1: 0.7392 - recall_1: 0.0528 - val_loss: 0.5869 - val_precision_1: 0.7530 - val_recall_1: 0.0512\n",
      "Epoch 9/20\n",
      "19/19 [==============================] - 4s 235ms/step - loss: 0.5768 - precision_1: 0.7651 - recall_1: 0.0744 - val_loss: 0.5967 - val_precision_1: 0.7474 - val_recall_1: 0.0897\n"
     ]
    }
   ],
   "source": [
    "# Model training\n",
    "history = model.fit(\n",
    "    x=X_train_array,\n",
    "    y=y_train,\n",
    "    batch_size=batch_size,\n",
    "    epochs=20,\n",
    "    verbose=1,\n",
    "    validation_data=(X_test_array, y_test),\n",
    "    callbacks=my_callbacks\n",
    ")\n",
    "\n",
    "model.load_weights(checkpoint_filepath)"
   ]
  },
  {
   "cell_type": "code",
   "execution_count": 96,
   "id": "363363f8",
   "metadata": {},
   "outputs": [
    {
     "data": {
      "image/png": "[encoded data removed]",
      "text/plain": [
       "<Figure size 640x480 with 1 Axes>"
      ]
     },
     "metadata": {},
     "output_type": "display_data"
    }
   ],
   "source": [
    "import matplotlib.pyplot as plt\n",
    "\n",
    "# Training results visualization\n",
    "\n",
    "plt.plot(history.history[\"loss\"][0:])\n",
    "plt.plot(history.history[\"val_loss\"][0:])\n",
    "plt.ylabel(\"Loss\")\n",
    "plt.xlabel(\"Epoch\")\n",
    "plt.legend([\"Train\", \"Validation\"])\n",
    "plt.title(\"Traning and Validation Loss vs Epoch\")\n",
    "plt.grid()\n",
    "plt.show()"
   ]
  },
  {
   "cell_type": "code",
   "execution_count": 97,
   "id": "c92231d7",
   "metadata": {},
   "outputs": [],
   "source": [
    "def extract_weights(name, model):\n",
    "    # Get the layer by name from the model\n",
    "    weight_layer = model.get_layer(name)\n",
    "    \n",
    "    # Get the weights from the layer\n",
    "    weights = weight_layer.get_weights()[0]\n",
    "    \n",
    "    # Normalize the weights\n",
    "    weights = weights / np.linalg.norm(weights, axis=1).reshape((-1, 1))\n",
    "    \n",
    "    return weights\n",
    "\n",
    "# Extract weights for anime embeddings\n",
    "book_weights = extract_weights('book_embedding', model)\n",
    "# Extract weights for user embeddings\n",
    "user_weights = extract_weights('user_embedding', model)"
   ]
  },
  {
   "cell_type": "code",
   "execution_count": 98,
   "id": "957e2f52",
   "metadata": {},
   "outputs": [
    {
     "data": {
      "text/html": [
       "<div>\n",
       "<style scoped>\n",
       "    .dataframe tbody tr th:only-of-type {\n",
       "        vertical-align: middle;\n",
       "    }\n",
       "\n",
       "    .dataframe tbody tr th {\n",
       "        vertical-align: top;\n",
       "    }\n",
       "\n",
       "    .dataframe thead th {\n",
       "        text-align: right;\n",
       "    }\n",
       "</style>\n",
       "<table border=\"1\" class=\"dataframe\">\n",
       "  <thead>\n",
       "    <tr style=\"text-align: right;\">\n",
       "      <th></th>\n",
       "      <th>ISBN</th>\n",
       "      <th>Book-Title</th>\n",
       "      <th>Book-Author</th>\n",
       "      <th>Year-Of-Publication</th>\n",
       "      <th>Publisher</th>\n",
       "      <th>Image-URL-S</th>\n",
       "      <th>Image-URL-M</th>\n",
       "      <th>Image-URL-L</th>\n",
       "    </tr>\n",
       "  </thead>\n",
       "  <tbody>\n",
       "    <tr>\n",
       "      <th>136484</th>\n",
       "      <td>0345313860</td>\n",
       "      <td>The Vampire Lestat (Vampire Chronicles, Book II)</td>\n",
       "      <td>ANNE RICE</td>\n",
       "      <td>1986</td>\n",
       "      <td>Ballantine Books</td>\n",
       "      <td>http://images.amazon.com/images/P/0345313860.0...</td>\n",
       "      <td>http://images.amazon.com/images/P/0345313860.0...</td>\n",
       "      <td>http://images.amazon.com/images/P/0345313860.0...</td>\n",
       "    </tr>\n",
       "  </tbody>\n",
       "</table>\n",
       "</div>"
      ],
      "text/plain": [
       "              ISBN                                        Book-Title  \\\n",
       "136484  0345313860  The Vampire Lestat (Vampire Chronicles, Book II)   \n",
       "\n",
       "       Book-Author Year-Of-Publication         Publisher  \\\n",
       "136484   ANNE RICE                1986  Ballantine Books   \n",
       "\n",
       "                                              Image-URL-S  \\\n",
       "136484  http://images.amazon.com/images/P/0345313860.0...   \n",
       "\n",
       "                                              Image-URL-M  \\\n",
       "136484  http://images.amazon.com/images/P/0345313860.0...   \n",
       "\n",
       "                                              Image-URL-L  \n",
       "136484  http://images.amazon.com/images/P/0345313860.0...  "
      ]
     },
     "execution_count": 98,
     "metadata": {},
     "output_type": "execute_result"
    }
   ],
   "source": [
    "df_ref = filtered_books_ratings_df[filtered_books_ratings_df[\"Book-Title\"].isin(famous_books)]\n",
    "# Drop \"User-ID\" column and remove duplicate rows\n",
    "df_processed = df_ref.drop([\"User-ID\", \"Book-Rating\"], axis=1).drop_duplicates()\n",
    "df_processed[df_processed[\"ISBN\"] == \"0345313860\"]"
   ]
  },
  {
   "cell_type": "code",
   "execution_count": 99,
   "id": "97fc3a2b",
   "metadata": {},
   "outputs": [],
   "source": [
    "def find_similar_books(name, n=10, return_dist=False, neg=False):\n",
    "    \n",
    "    book_row = df_ref[df_ref['Book-Title'] == name].iloc[0]\n",
    "    index = book_row['ISBN']\n",
    "    encoded_index = book_encoder.transform([index])[0]\n",
    "    #print(book_encoder.transform([index]), index)\n",
    "    weights = book_weights\n",
    "    #print(sorted(np.dot(weights, weights[encoded_index]), reverse = True)[1:])\n",
    "    dists = np.dot(weights, weights[encoded_index])\n",
    "    #print(np.where(0.5276683 == dists))\n",
    "    value_indices = []\n",
    "    for idx, value in enumerate(dists):\n",
    "        value_indices.append((idx, value))\n",
    "    value_indices = sorted(value_indices, reverse=True, key=lambda x: x[1])\n",
    "    suggestions = []\n",
    "    for idx, val in value_indices[1:n+1]:\n",
    "        decoded_id = book_encoder.inverse_transform([idx])[0]\n",
    "        suggestions.append((df_processed[df_processed[\"ISBN\"] == decoded_id].values[0][1], val))\n",
    "    return suggestions\n",
    "                  \n",
    "        \n"
   ]
  },
  {
   "cell_type": "code",
   "execution_count": 103,
   "id": "d23a96ba",
   "metadata": {
    "scrolled": true
   },
   "outputs": [
    {
     "data": {
      "text/plain": [
       "[('Children of Dune (Dune Chronicles, Book 3)', 0.39279008),\n",
       " ('Megatrends: Ten new directions transforming our lives', 0.3781619),\n",
       " ('Nightmares &amp; Dreamscapes', 0.37331843),\n",
       " ('Illusions: The Adventures of a Reluctant Messiah', 0.37130225),\n",
       " ('Memnoch the Devil (Vampire Chronicles, No 5)', 0.36696884),\n",
       " ('Nightmares &amp; Dreamscapes', 0.36554018),\n",
       " ('Succulent Wild Woman', 0.35542262),\n",
       " ('The Fourth Hand', 0.35309795),\n",
       " ('The Drawing of the Three (The Dark Tower, Book 2)', 0.3502133),\n",
       " ('The Long Road Home', 0.34777713)]"
      ]
     },
     "execution_count": 103,
     "metadata": {},
     "output_type": "execute_result"
    }
   ],
   "source": [
    "find_similar_books('Interview with the Vampire', n=10, neg=False) "
   ]
  },
  {
   "cell_type": "code",
   "execution_count": 104,
   "id": "cd547298",
   "metadata": {},
   "outputs": [
    {
     "data": {
      "text/plain": [
       "[('Remember Me', 0.6412646),\n",
       " ('Venus', 0.62421775),\n",
       " ('Midnight Sun', 0.61285734),\n",
       " ('Vertical Run', 0.6062872),\n",
       " ('A Separate Peace', 0.5916281),\n",
       " ('The Last Family', 0.56427133),\n",
       " ('Cameo Lake', 0.5619059),\n",
       " (\"This Boy's Life: A Memoir\", 0.52642316),\n",
       " ('The Forgotten: A Peter Decker/Rina Lazarus Novel', 0.51795316),\n",
       " ('My Soul to Keep', 0.5117419)]"
      ]
     },
     "execution_count": 104,
     "metadata": {},
     "output_type": "execute_result"
    }
   ],
   "source": [
    "find_similar_books('The Notebook', n=10, neg=False)"
   ]
  },
  {
   "cell_type": "code",
   "execution_count": null,
   "id": "8681d572",
   "metadata": {},
   "outputs": [],
   "source": []
  },
  {
   "cell_type": "code",
   "execution_count": null,
   "id": "fe2429cc",
   "metadata": {},
   "outputs": [],
   "source": []
  }
 ],
 "metadata": {
  "kernelspec": {
   "display_name": "Python 3 (ipykernel)",
   "language": "python",
   "name": "python3"
  },
  "language_info": {
   "codemirror_mode": {
    "name": "ipython",
    "version": 3
   },
   "file_extension": ".py",
   "mimetype": "text/x-python",
   "name": "python",
   "nbconvert_exporter": "python",
   "pygments_lexer": "ipython3",
   "version": "3.10.9"
  }
 },
 "nbformat": 4,
 "nbformat_minor": 5
}
